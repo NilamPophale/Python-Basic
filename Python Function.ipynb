{
 "cells": [
  {
   "cell_type": "markdown",
   "id": "2afb7529-0939-43bd-871a-d8661d3b41bb",
   "metadata": {},
   "source": [
    "##### List is a collection which is ordered and changeable. Allows duplicate members.\n",
    "##### Tuple is a collection which is ordered and unchangeable. Allows duplicate members.\n",
    "##### Set is a collection which is unordered, unchangeable*, and unindexed. No duplicate members.\n",
    "##### Dictionary is a collection which is ordered** and changeable. No duplicate members."
   ]
  },
  {
   "cell_type": "code",
   "execution_count": 47,
   "id": "25b6d74e-090a-47b2-a319-141f2aca91eb",
   "metadata": {},
   "outputs": [
    {
     "name": "stdout",
     "output_type": "stream",
     "text": [
      "267\n"
     ]
    }
   ],
   "source": [
    "def sum_list(lst):\n",
    "    count=0\n",
    "    for i in lst:\n",
    "        count+=i\n",
    "    return count\n",
    "print(sum_list((11,20,45,78,90,23)))"
   ]
  },
  {
   "cell_type": "code",
   "execution_count": 15,
   "id": "ac1b677d-3bae-43a1-bfa0-bf027eaf1d1c",
   "metadata": {},
   "outputs": [
    {
     "name": "stdout",
     "output_type": "stream",
     "text": [
      "Hello ,Nilam. Good Morning\n"
     ]
    }
   ],
   "source": [
    "def greet(name):\n",
    "    \"\"\"this function greet to the person passed in as parameter\"\"\"\n",
    "    print('Hello ,' +name+ '. Good Morning')\n",
    "\n",
    "greet('Nilam')"
   ]
  },
  {
   "cell_type": "code",
   "execution_count": 17,
   "id": "4db4893e-c025-414a-9053-b8058ca06664",
   "metadata": {},
   "outputs": [
    {
     "data": {
      "text/plain": [
       "'this function greet to the person passed in as parameter'"
      ]
     },
     "execution_count": 17,
     "metadata": {},
     "output_type": "execute_result"
    }
   ],
   "source": [
    "greet.__doc__"
   ]
  },
  {
   "cell_type": "code",
   "execution_count": 15,
   "id": "1e732407-327a-4461-8480-5a8faa68e3e7",
   "metadata": {},
   "outputs": [
    {
     "data": {
      "text/plain": [
       "'maliN si eman yM'"
      ]
     },
     "execution_count": 15,
     "metadata": {},
     "output_type": "execute_result"
    }
   ],
   "source": [
    "def reverse_string(s):\n",
    "    return s[::-1]\n",
    "\n",
    "reverse_string('My name is Nilam')"
   ]
  },
  {
   "cell_type": "code",
   "execution_count": 19,
   "id": "80441301-af9f-475f-aeba-5acc630f4deb",
   "metadata": {},
   "outputs": [
    {
     "data": {
      "text/plain": [
       "6"
      ]
     },
     "execution_count": 19,
     "metadata": {},
     "output_type": "execute_result"
    }
   ],
   "source": [
    "def absolute_value(num):\n",
    "    if num>=0:\n",
    "        return num\n",
    "    else:\n",
    "        return -num\n",
    "\n",
    "absolute_value(-6)"
   ]
  },
  {
   "cell_type": "code",
   "execution_count": 5,
   "id": "331f6673-bcb3-40ac-be87-480540c72cac",
   "metadata": {},
   "outputs": [
    {
     "data": {
      "text/plain": [
       "60"
      ]
     },
     "execution_count": 5,
     "metadata": {},
     "output_type": "execute_result"
    }
   ],
   "source": [
    "def second_largest(lst):\n",
    "    lst.sort()\n",
    "    return lst[len(lst)-2]\n",
    "\n",
    "second_largest([10,40,20,60,50,90])"
   ]
  },
  {
   "cell_type": "code",
   "execution_count": 9,
   "id": "436ae988-db10-4214-bc13-8b2e9a47a368",
   "metadata": {},
   "outputs": [
    {
     "name": "stdout",
     "output_type": "stream",
     "text": [
      "Yes\n"
     ]
    }
   ],
   "source": [
    "def is_substring(s1, s2):\n",
    "    if(s1.count(s2)>0):\n",
    "        print('Yes')\n",
    "    else:\n",
    "        print('No')\n",
    "\n",
    "s1='life is lazy and easy'\n",
    "s2='easy'\n",
    "is_substring(s1, s2)"
   ]
  },
  {
   "cell_type": "code",
   "execution_count": 21,
   "id": "58a4e9ec-394e-4b1e-b96b-1360dc933b21",
   "metadata": {},
   "outputs": [
    {
     "name": "stdout",
     "output_type": "stream",
     "text": [
      "My Favorite Hero Is Lee Min Ho\n"
     ]
    }
   ],
   "source": [
    "def capitalize_words(sentence):\n",
    "    x=sentence.title()\n",
    "    print(x)\n",
    "\n",
    "capitalize_words('my Favorite hero is lee min ho')"
   ]
  },
  {
   "cell_type": "code",
   "execution_count": 21,
   "id": "2c4eb091-f1f1-41d5-8dcb-d140ec28a1b1",
   "metadata": {},
   "outputs": [
    {
     "data": {
      "text/plain": [
       "9"
      ]
     },
     "execution_count": 21,
     "metadata": {},
     "output_type": "execute_result"
    }
   ],
   "source": [
    "def add_num(x,y):\n",
    "    add=x+y\n",
    "    return add\n",
    "\n",
    "add_num(5,4)"
   ]
  },
  {
   "cell_type": "code",
   "execution_count": 153,
   "id": "2baf425a-3df3-4330-9442-2774f2ddc6c3",
   "metadata": {},
   "outputs": [
    {
     "data": {
      "text/plain": [
       "\"it's prime number\""
      ]
     },
     "execution_count": 153,
     "metadata": {},
     "output_type": "execute_result"
    }
   ],
   "source": [
    "def check_prime(n1):\n",
    "    if n1==1:\n",
    "        ans=\"it's prime number\"\n",
    "    elif n1==2:\n",
    "        ans=\"it's not prime number\"\n",
    "    else:\n",
    "        for i in range(2,n1):\n",
    "            if n1 % i==0:\n",
    "                return 'is not a prime no.'\n",
    "            else:\n",
    "                return 'is a prime no.'\n",
    "    return ans\n",
    "check_prime(1)"
   ]
  },
  {
   "cell_type": "code",
   "execution_count": 31,
   "id": "43644b1e-8005-4fd7-9b63-60160fe9cb07",
   "metadata": {},
   "outputs": [
    {
     "name": "stdin",
     "output_type": "stream",
     "text": [
      "Enter the string: nitin\n"
     ]
    },
    {
     "name": "stdout",
     "output_type": "stream",
     "text": [
      "this is palindrome\n"
     ]
    }
   ],
   "source": [
    "def is_palindrome():\n",
    "    string=str(input('Enter the string:'))\n",
    "    if string==string[::-1]:\n",
    "        print('this is palindrome')\n",
    "    else:\n",
    "        print('this is not palindrome')\n",
    "\n",
    "is_palindrome()"
   ]
  },
  {
   "cell_type": "code",
   "execution_count": 35,
   "id": "eaf8297a-1b58-46ef-8238-51040cf78bd0",
   "metadata": {},
   "outputs": [
    {
     "name": "stdout",
     "output_type": "stream",
     "text": [
      "number of vowels: 5\n"
     ]
    }
   ],
   "source": [
    "def count_vowels(num):\n",
    "    count=0\n",
    "    vowels=['a','e','i','o','u']\n",
    "    for i in range(len(num)):\n",
    "        if num[i] in vowels:\n",
    "            count+=1\n",
    "    return count\n",
    "print('number of vowels:',count_vowels('nilampophale'))"
   ]
  },
  {
   "cell_type": "code",
   "execution_count": 43,
   "id": "857bd9e7-0908-4ddc-8ad1-f65730dfde4e",
   "metadata": {},
   "outputs": [
    {
     "data": {
      "text/plain": [
       "True"
      ]
     },
     "execution_count": 43,
     "metadata": {},
     "output_type": "execute_result"
    }
   ],
   "source": [
    "def check_anagram(num1,num2):\n",
    "    return sorted(num1)==sorted(num2)\n",
    "check_anagram('nilam','milan')\n",
    "\n",
    "    #for i in range(len(num1)):\n",
    "        #if num1[i]==num2[i]"
   ]
  },
  {
   "cell_type": "code",
   "execution_count": 45,
   "id": "5bce639b-2b68-40bc-9397-155ee3f649c5",
   "metadata": {},
   "outputs": [
    {
     "data": {
      "text/plain": [
       "['a', 'i', 'l', 'm', 'n']"
      ]
     },
     "execution_count": 45,
     "metadata": {},
     "output_type": "execute_result"
    }
   ],
   "source": [
    "#listen silent\n",
    "sorted('nilam')"
   ]
  },
  {
   "cell_type": "code",
   "execution_count": 49,
   "id": "3ba902ed-3d50-4505-b58e-2569a3b05d6d",
   "metadata": {},
   "outputs": [
    {
     "data": {
      "text/plain": [
       "9"
      ]
     },
     "execution_count": 49,
     "metadata": {},
     "output_type": "execute_result"
    }
   ],
   "source": [
    "def find_max(list1):\n",
    "    maximum=max(list1)\n",
    "    return maximum\n",
    "find_max([1,2,3,6,9])"
   ]
  },
  {
   "cell_type": "code",
   "execution_count": 67,
   "id": "59f2fe6f-817a-48c3-96ce-7d5ac1d898fa",
   "metadata": {},
   "outputs": [
    {
     "data": {
      "text/plain": [
       "True"
      ]
     },
     "execution_count": 67,
     "metadata": {},
     "output_type": "execute_result"
    }
   ],
   "source": [
    "def is_evenly_divisible(a,b):\n",
    "    if a % b ==0:\n",
    "        return True\n",
    "    else:\n",
    "        return False\n",
    "is_evenly_divisible(4,2)"
   ]
  },
  {
   "cell_type": "code",
   "execution_count": 75,
   "id": "e862bbf1-e495-45f7-91dc-1eee5f10d650",
   "metadata": {},
   "outputs": [
    {
     "data": {
      "text/plain": [
       "8.333333333333332"
      ]
     },
     "execution_count": 75,
     "metadata": {},
     "output_type": "execute_result"
    }
   ],
   "source": [
    "def calculate_percentage(total,subject):\n",
    "    percent=(subject/total)*100\n",
    "    return percent\n",
    "calculate_percentage(300,25)"
   ]
  },
  {
   "cell_type": "code",
   "execution_count": 91,
   "id": "eaa48847-e6dc-4e05-be5e-61d97adc36dc",
   "metadata": {},
   "outputs": [
    {
     "data": {
      "text/plain": [
       "15.0"
      ]
     },
     "execution_count": 91,
     "metadata": {},
     "output_type": "execute_result"
    }
   ],
   "source": [
    "def convert_a_distance(miles):\n",
    "    km=miles/0.6\n",
    "    return km\n",
    "convert_a_distance(9)"
   ]
  },
  {
   "cell_type": "code",
   "execution_count": 85,
   "id": "be01c233-5a84-489b-89d5-dea7fe93f934",
   "metadata": {},
   "outputs": [
    {
     "data": {
      "text/plain": [
       "True"
      ]
     },
     "execution_count": 85,
     "metadata": {},
     "output_type": "execute_result"
    }
   ],
   "source": [
    "def check_leap_year(year):\n",
    "    if year % 4==0:\n",
    "        return True\n",
    "    else:\n",
    "        return False\n",
    "check_leap_year(1992)"
   ]
  },
  {
   "cell_type": "code",
   "execution_count": 35,
   "id": "fb8fd76f-4370-4087-8697-100436530a5c",
   "metadata": {},
   "outputs": [
    {
     "name": "stdout",
     "output_type": "stream",
     "text": [
      "10\n"
     ]
    }
   ],
   "source": [
    "def gcd(a,b):\n",
    "    if a==0:\n",
    "        return b\n",
    "    if b==0:\n",
    "        return a\n",
    "    if a==b:\n",
    "        return a\n",
    "    if (a>b):\n",
    "        return gcd(a-b,b)\n",
    "    return gcd(a,b-a)\n",
    "a=100\n",
    "b=30\n",
    "if(gcd(a,b)):\n",
    "    print(gcd(a,b))"
   ]
  },
  {
   "cell_type": "code",
   "execution_count": null,
   "id": "1aa556eb-8fd7-4352-b477-f5aaa0b46c54",
   "metadata": {},
   "outputs": [],
   "source": [
    "def longest_word(sentence):\n",
    "    "
   ]
  },
  {
   "cell_type": "code",
   "execution_count": 221,
   "id": "168b3512-7a24-41fb-ba42-b33bc7ee7cf0",
   "metadata": {},
   "outputs": [
    {
     "data": {
      "text/plain": [
       "[0, 1, 1, 2, 3, 5, 8, 13, 21, 34]"
      ]
     },
     "execution_count": 221,
     "metadata": {},
     "output_type": "execute_result"
    }
   ],
   "source": [
    "def fibonacci_sequence(n):\n",
    "    series = []\n",
    "    a,b = 0, 1\n",
    "    for _ in range(n):\n",
    "        series.append(a)\n",
    "        a,b = b, a + b\n",
    "    return series\n",
    "fibonacci_sequence(10)       "
   ]
  },
  {
   "cell_type": "code",
   "execution_count": 103,
   "id": "75a414ae-c1a8-4fd0-9a36-6bf441c56c20",
   "metadata": {},
   "outputs": [
    {
     "name": "stdout",
     "output_type": "stream",
     "text": [
      "7\n",
      "42\n",
      "210\n",
      "840\n",
      "2520\n",
      "5040\n",
      "5040\n"
     ]
    }
   ],
   "source": [
    "def calculate_factorial_number(num):\n",
    "    n1=1\n",
    "    for i in range(num,0,-1):\n",
    "        n1= n1*i\n",
    "        print(n1)\n",
    "calculate_factorial_number(7)"
   ]
  },
  {
   "cell_type": "code",
   "execution_count": 163,
   "id": "f2fe6e9a-52d8-4f9b-9c23-c38b193f4edb",
   "metadata": {},
   "outputs": [
    {
     "data": {
      "text/plain": [
       "165"
      ]
     },
     "execution_count": 163,
     "metadata": {},
     "output_type": "execute_result"
    }
   ],
   "source": [
    "def sum_of_squared_odds(num):\n",
    "    count=0\n",
    "    for i in num:\n",
    "        if i%2 !=0:\n",
    "            count+=i**2\n",
    "    return count\n",
    "sum_of_squared_odds([1,2,3,4,5,6,7,8,9])"
   ]
  },
  {
   "cell_type": "code",
   "execution_count": 233,
   "id": "473251d3-b531-472f-9661-23724c7a5abe",
   "metadata": {},
   "outputs": [
    {
     "data": {
      "text/plain": [
       "{1, 2, 3, 4, 5, 6, 7, 9}"
      ]
     },
     "execution_count": 233,
     "metadata": {},
     "output_type": "execute_result"
    }
   ],
   "source": [
    "def remove_duplicates(num):\n",
    "    return set(num)\n",
    "    \n",
    "remove_duplicates([1,3,4,1,5,2,3,6,9,6,7])"
   ]
  },
  {
   "cell_type": "code",
   "execution_count": 239,
   "id": "f2c62d73-08f6-4ea0-8d76-c698de141c76",
   "metadata": {},
   "outputs": [
    {
     "data": {
      "text/plain": [
       "22"
      ]
     },
     "execution_count": 239,
     "metadata": {},
     "output_type": "execute_result"
    }
   ],
   "source": [
    "def calculate_perimeter_of_rectangle(l,w):\n",
    "    x=2*(l+w)\n",
    "    return x\n",
    "calculate_perimeter_of_rectangle(2,9)"
   ]
  },
  {
   "cell_type": "code",
   "execution_count": 23,
   "id": "19fd6f22-60a3-4255-afe1-046d556c0583",
   "metadata": {},
   "outputs": [
    {
     "data": {
      "text/plain": [
       "34"
      ]
     },
     "execution_count": 23,
     "metadata": {},
     "output_type": "execute_result"
    }
   ],
   "source": [
    "def f(x):\n",
    "    return x**5+2\n",
    "\n",
    "f(2)"
   ]
  },
  {
   "cell_type": "code",
   "execution_count": 25,
   "id": "fceb32c2-4f29-44a4-86a6-307459bf316d",
   "metadata": {},
   "outputs": [
    {
     "data": {
      "text/plain": [
       "'playing'"
      ]
     },
     "execution_count": 25,
     "metadata": {},
     "output_type": "execute_result"
    }
   ],
   "source": [
    "def get_ing(abc):\n",
    "    return abc+'ing'\n",
    "\n",
    "get_ing('play')"
   ]
  },
  {
   "cell_type": "code",
   "execution_count": 27,
   "id": "2dfae973-7069-48da-8d75-dc969312699f",
   "metadata": {},
   "outputs": [
    {
     "data": {
      "text/plain": [
       "True"
      ]
     },
     "execution_count": 27,
     "metadata": {},
     "output_type": "execute_result"
    }
   ],
   "source": [
    "def same_initial(x1,y1):\n",
    "    if x1[0].lower()==y1[0].lower():\n",
    "        return True\n",
    "    else:\n",
    "        return False\n",
    "\n",
    "same_initial('dog','rabit')\n",
    "same_initial('dark','dog')"
   ]
  },
  {
   "cell_type": "code",
   "execution_count": 29,
   "id": "92b234cc-b081-4d59-8ccd-52b82424f21f",
   "metadata": {},
   "outputs": [
    {
     "data": {
      "text/plain": [
       "['a', 'g', 'g', 'g', 'i', 'n']"
      ]
     },
     "execution_count": 29,
     "metadata": {},
     "output_type": "execute_result"
    }
   ],
   "source": [
    "def in_both(x1,y1):\n",
    "    common=[]\n",
    "    for c in x1:\n",
    "        if c in y1:\n",
    "            common.append(c)\n",
    "    return sorted(common)\n",
    "\n",
    "in_both('ragging','playing')"
   ]
  },
  {
   "cell_type": "code",
   "execution_count": 31,
   "id": "3f9a9c6e-8bd9-4f92-b6c7-de653a0fed95",
   "metadata": {},
   "outputs": [
    {
     "name": "stdout",
     "output_type": "stream",
     "text": [
      "Hello Nilam!\n",
      "what a lovely day\n"
     ]
    }
   ],
   "source": [
    "def sayhello(who):\n",
    "    print('Hello' ,who+'!')\n",
    "    print('what a lovely day')\n",
    "sayhello('Nilam')       "
   ]
  },
  {
   "cell_type": "code",
   "execution_count": 35,
   "id": "0dd13723-a21f-4270-9e65-0e6b9eb19b75",
   "metadata": {},
   "outputs": [
    {
     "name": "stdout",
     "output_type": "stream",
     "text": [
      "even\n"
     ]
    }
   ],
   "source": [
    "def evenodd(x):\n",
    "    if x%2==0:\n",
    "        print('even')\n",
    "    else:\n",
    "        print('odd')\n",
    "\n",
    "evenodd(8)"
   ]
  },
  {
   "cell_type": "code",
   "execution_count": 37,
   "id": "939a1487-408d-4849-950c-2a4541a32f19",
   "metadata": {},
   "outputs": [
    {
     "name": "stdout",
     "output_type": "stream",
     "text": [
      "175616\n"
     ]
    }
   ],
   "source": [
    "cube=lambda x: x*x*x\n",
    "print(cube(56))"
   ]
  },
  {
   "cell_type": "code",
   "execution_count": 39,
   "id": "93ecfb7b-646b-4edd-a963-625d3b98dd94",
   "metadata": {},
   "outputs": [
    {
     "name": "stdout",
     "output_type": "stream",
     "text": [
      "hello\n"
     ]
    }
   ],
   "source": [
    "def shout(text):\n",
    "    return text.lower()\n",
    "\n",
    "print(shout('Hello'))"
   ]
  },
  {
   "cell_type": "code",
   "execution_count": 41,
   "id": "7a561ed7-15b4-4e44-ba41-6b8a631325f8",
   "metadata": {},
   "outputs": [
    {
     "name": "stdout",
     "output_type": "stream",
     "text": [
      "HI, MY NAME IS NILAM\n",
      "hi, my name is nilam\n"
     ]
    }
   ],
   "source": [
    "def shout(text):\n",
    "    return text.upper()\n",
    "\n",
    "def whisper(text):\n",
    "    return text.lower()\n",
    "\n",
    "def greet(func):\n",
    "    greeting=func('Hi, my name is Nilam')\n",
    "    print(greeting)\n",
    "\n",
    "greet(shout)\n",
    "greet(whisper)"
   ]
  },
  {
   "cell_type": "code",
   "execution_count": 43,
   "id": "45daf9da-4e72-4fa2-9aab-3ab7d1cc2b9a",
   "metadata": {},
   "outputs": [
    {
     "name": "stdin",
     "output_type": "stream",
     "text": [
      "enter your name nilam\n"
     ]
    },
    {
     "name": "stdout",
     "output_type": "stream",
     "text": [
      "hello worldnilam\n"
     ]
    }
   ],
   "source": [
    "def hello():\n",
    "    name=str(input('enter your name'))\n",
    "    if name:\n",
    "        print('hello world'+str(name))\n",
    "    else:\n",
    "        print('hello world')\n",
    "hello()"
   ]
  },
  {
   "cell_type": "code",
   "execution_count": 49,
   "id": "62c5849e-6310-478e-9090-b85de1489e7e",
   "metadata": {},
   "outputs": [
    {
     "name": "stdout",
     "output_type": "stream",
     "text": [
      "my\n",
      "name\n",
      "is\n",
      "nilam\n"
     ]
    }
   ],
   "source": [
    "def myfunc(*argv):\n",
    "    for arg in argv:\n",
    "        print(arg)\n",
    "\n",
    "myfunc('my','name','is','nilam')"
   ]
  },
  {
   "cell_type": "code",
   "execution_count": 51,
   "id": "41b8b8be-ebd7-4ed6-b772-0749b01eb7f3",
   "metadata": {},
   "outputs": [
    {
     "name": "stdout",
     "output_type": "stream",
     "text": [
      "first argument hi\n",
      "next argument is hello\n",
      "next argument is bye\n"
     ]
    }
   ],
   "source": [
    "def myfunc1(arg1,*argv):\n",
    "    print('first argument',arg1)\n",
    "    for arg in argv:\n",
    "        print('next argument is',arg)\n",
    "\n",
    "myfunc1('hi','hello','bye')"
   ]
  },
  {
   "cell_type": "code",
   "execution_count": 53,
   "id": "78a97442-e3ba-465c-a9de-8f1cd8044ab1",
   "metadata": {},
   "outputs": [
    {
     "data": {
      "text/plain": [
       "20"
      ]
     },
     "execution_count": 53,
     "metadata": {},
     "output_type": "execute_result"
    }
   ],
   "source": [
    "def hcf(x,y):\n",
    "    if x>y:\n",
    "        smaller=y\n",
    "    else:\n",
    "        smaller=x\n",
    "    for i in range(1,smaller+1):\n",
    "        if ((x%i==0 and y%i==0)):\n",
    "            hcf=i\n",
    "    return hcf\n",
    "\n",
    "hcf(40,60)"
   ]
  },
  {
   "cell_type": "code",
   "execution_count": 55,
   "id": "53f93140-5560-4d23-a944-6687ae462007",
   "metadata": {},
   "outputs": [
    {
     "data": {
      "text/plain": [
       "110"
      ]
     },
     "execution_count": 55,
     "metadata": {},
     "output_type": "execute_result"
    }
   ],
   "source": [
    "def lcm(x,y):\n",
    "    if x>y:\n",
    "        greater=x\n",
    "    else:\n",
    "        greater=y\n",
    "    while(True):\n",
    "        if ((greater%x==0 and greater%y==0)):\n",
    "            lcm=greater\n",
    "            break\n",
    "        greater+=1\n",
    "    return lcm\n",
    "\n",
    "lcm(10,11)"
   ]
  },
  {
   "cell_type": "code",
   "execution_count": 57,
   "id": "848b3331-6673-4b3c-ba64-04e0c1286a86",
   "metadata": {},
   "outputs": [
    {
     "name": "stdout",
     "output_type": "stream",
     "text": [
      "16\n"
     ]
    }
   ],
   "source": [
    "square=lambda x: x*x\n",
    "print(square(4))"
   ]
  },
  {
   "cell_type": "code",
   "execution_count": 59,
   "id": "8996e55c-2f24-46f0-b158-741378f3f6cd",
   "metadata": {},
   "outputs": [
    {
     "name": "stdout",
     "output_type": "stream",
     "text": [
      "35\n"
     ]
    }
   ],
   "source": [
    "def myfunc(n):\n",
    "    return lambda x: x*n\n",
    "\n",
    "mydoubler=myfunc(5)\n",
    "print(mydoubler(7))"
   ]
  },
  {
   "cell_type": "code",
   "execution_count": 7,
   "id": "ea2f06bb-e771-4aa1-9366-481887079c61",
   "metadata": {},
   "outputs": [
    {
     "data": {
      "text/plain": [
       "['a', 'i']"
      ]
     },
     "execution_count": 7,
     "metadata": {},
     "output_type": "execute_result"
    }
   ],
   "source": [
    "def common_elements(lst1, lst2):\n",
    "    common=[]\n",
    "    for i in lst1:\n",
    "        if i in lst2:\n",
    "            common.append(i)\n",
    "    return sorted(common)\n",
    "\n",
    "common_elements('Nilam','Sunita')\n",
    "            "
   ]
  },
  {
   "cell_type": "code",
   "execution_count": 25,
   "id": "ab510941-e647-47bf-8c8f-8ca3a933e0b9",
   "metadata": {},
   "outputs": [
    {
     "name": "stdout",
     "output_type": "stream",
     "text": [
      "[23, 55, 87, 12, 34]\n"
     ]
    }
   ],
   "source": [
    "def remove_duplicates(lst):\n",
    "    list1=[]\n",
    "    for i in lst:\n",
    "        if i not in list1:\n",
    "            list1.append(i)\n",
    "    return list1\n",
    "\n",
    "lst=[23,55,87,12,34,55,23]\n",
    "print(remove_duplicates(lst))"
   ]
  },
  {
   "cell_type": "code",
   "execution_count": 15,
   "id": "500ca39e-e9ac-4e28-b278-d827912f7b39",
   "metadata": {},
   "outputs": [
    {
     "data": {
      "text/plain": [
       "30"
      ]
     },
     "execution_count": 15,
     "metadata": {},
     "output_type": "execute_result"
    }
   ],
   "source": [
    "def sum_even_numbers(lst):\n",
    "    count=0\n",
    "    for i in lst:\n",
    "        if i%2==0:\n",
    "            count+=i\n",
    "    return count\n",
    "\n",
    "sum_even_numbers([2,3,4,5,6,7,8,9,10])"
   ]
  },
  {
   "cell_type": "code",
   "execution_count": 25,
   "id": "0dd319bf-83aa-405d-8f74-db9b872c8eac",
   "metadata": {},
   "outputs": [
    {
     "data": {
      "text/plain": [
       "(2, 5)"
      ]
     },
     "execution_count": 25,
     "metadata": {},
     "output_type": "execute_result"
    }
   ],
   "source": [
    "def count_occurrences(lst, element):\n",
    "    count=0\n",
    "    total_count=len(lst)\n",
    "    for i in lst:\n",
    "        if element==i:\n",
    "            count+=1\n",
    "    return count,total_count\n",
    "    \n",
    "count_occurrences(['apple','cherry','grapes','orange','grapes'],'grapes')"
   ]
  },
  {
   "cell_type": "code",
   "execution_count": 38,
   "id": "9f9bca33-7902-46b8-a5fd-956c3125498c",
   "metadata": {},
   "outputs": [
    {
     "data": {
      "text/plain": [
       "3"
      ]
     },
     "execution_count": 38,
     "metadata": {},
     "output_type": "execute_result"
    }
   ],
   "source": [
    "list1=['yes','yes','no','yes','no']\n",
    "count_occurrences(list1,'yes')"
   ]
  },
  {
   "cell_type": "code",
   "execution_count": 64,
   "id": "ab68185b-0033-4390-a2f4-6fd48711ef9a",
   "metadata": {},
   "outputs": [
    {
     "data": {
      "text/plain": [
       "2"
      ]
     },
     "execution_count": 64,
     "metadata": {},
     "output_type": "execute_result"
    }
   ],
   "source": [
    "def count_occurrence(elements_list, element):\n",
    "    element_count = 0\n",
    "    total_count = len(elements_list)\n",
    "    \n",
    "    for item in elements_list:\n",
    "        if item == element:\n",
    "            element_count += 1\n",
    "    #if element in elements_list:\n",
    "        #element_count+=1\n",
    "    \n",
    "    return element_count\n",
    "\n",
    "count_occurrence(['apple','banana','grapes','apple'],'apple')"
   ]
  },
  {
   "cell_type": "code",
   "execution_count": 27,
   "id": "cf8d7869-052e-4033-89f3-f36a81eccfc5",
   "metadata": {},
   "outputs": [
    {
     "data": {
      "text/plain": [
       "['apple', 'banana', 'mango']"
      ]
     },
     "execution_count": 27,
     "metadata": {},
     "output_type": "execute_result"
    }
   ],
   "source": [
    "def a_in_list(lst):\n",
    "    #lst=['apple','banana','cherry','mango']\n",
    "    list1=[]\n",
    "    for i in lst:\n",
    "        if 'a' in i:\n",
    "            list1.append(i)\n",
    "    return list1\n",
    "\n",
    "a_in_list(['apple','banana','cherry','mango'])"
   ]
  },
  {
   "cell_type": "code",
   "execution_count": 51,
   "id": "17d2c72f-33e6-4927-89d8-6c327326b29d",
   "metadata": {},
   "outputs": [
    {
     "data": {
      "text/plain": [
       "['apple', 'banana', 'cherry', 'mango', 'orange']"
      ]
     },
     "execution_count": 51,
     "metadata": {},
     "output_type": "execute_result"
    }
   ],
   "source": [
    "def sorted_list(lst):\n",
    "    lst=['banana','mango','apple','cherry','orange']\n",
    "    lst.sort()\n",
    "    #lst.sort(reverse=True)\n",
    "    return lst\n",
    "sorted_list(['banana','mango','apple','cherry','orange'])  "
   ]
  },
  {
   "cell_type": "code",
   "execution_count": 53,
   "id": "74e5e93e-f155-4bfd-8109-091c22362e19",
   "metadata": {},
   "outputs": [
    {
     "data": {
      "text/plain": [
       "['banana', 'mango', 'apple', 'cherry', 'orange']"
      ]
     },
     "execution_count": 53,
     "metadata": {},
     "output_type": "execute_result"
    }
   ],
   "source": [
    "def copy_list(lst):\n",
    "    lst=['banana','mango','apple','cherry','orange']\n",
    "    list1=lst.copy()\n",
    "    return list1\n",
    "\n",
    "copy_list(['banana','mango','apple','cherry','orange'])"
   ]
  },
  {
   "cell_type": "code",
   "execution_count": 82,
   "id": "8beca085-3151-4565-9162-5dd5d11597ab",
   "metadata": {},
   "outputs": [
    {
     "data": {
      "text/plain": [
       "['a', 'b', 'c', 1, 2, 3]"
      ]
     },
     "execution_count": 82,
     "metadata": {},
     "output_type": "execute_result"
    }
   ],
   "source": [
    "def Two_list(n1,n2):\n",
    "    n1=['a','b','c']\n",
    "    n2=[1,2,3]\n",
    "    list1=n1+n2\n",
    "    return list1\n",
    "\n",
    "    #for x in n1:\n",
    "        #if x in n2:\n",
    "            #n2.append(x)\n",
    "    #return n1,n2\n",
    "\n",
    "Two_list(['a','b','c'],[1,2,3])"
   ]
  },
  {
   "cell_type": "code",
   "execution_count": 88,
   "id": "81fe5df2-24ea-48ea-bc45-8bc7f7990df3",
   "metadata": {},
   "outputs": [
    {
     "data": {
      "text/plain": [
       "5"
      ]
     },
     "execution_count": 88,
     "metadata": {},
     "output_type": "execute_result"
    }
   ],
   "source": [
    "def len_list(lst):\n",
    "    lst=('banana','mango','apple','cherry','orange')\n",
    "    return (len(lst))\n",
    "\n",
    "len_list(('banana','mango','apple','cherry','orange'))   "
   ]
  },
  {
   "cell_type": "code",
   "execution_count": 108,
   "id": "3959c05c-4ba0-44bd-acfe-8af9f3327e73",
   "metadata": {},
   "outputs": [
    {
     "data": {
      "text/plain": [
       "['banana', 'mango', 'cherry', 'orange']"
      ]
     },
     "execution_count": 108,
     "metadata": {},
     "output_type": "execute_result"
    }
   ],
   "source": [
    "def remove_no(lst):\n",
    "    lst=('banana','mango','apple','cherry','orange')\n",
    "    x=list(lst)\n",
    "    x.remove('apple')\n",
    "    return x\n",
    "\n",
    "remove_no(('banana','mango','apple','cherry','orange'))"
   ]
  },
  {
   "cell_type": "code",
   "execution_count": 116,
   "id": "3dcd1cdc-bf8f-4369-bc79-643373f4e0b9",
   "metadata": {},
   "outputs": [
    {
     "name": "stdout",
     "output_type": "stream",
     "text": [
      "banana\n",
      "mango\n",
      "apple\n",
      "cherry\n",
      "orange\n"
     ]
    }
   ],
   "source": [
    "def thislist(lst):\n",
    "    lst=('banana','mango','apple','cherry','orange')\n",
    "    for i in range(len(lst)):\n",
    "        print(lst[i])\n",
    "\n",
    "thislist(('banana','mango','apple','cherry','orange'))"
   ]
  },
  {
   "cell_type": "code",
   "execution_count": 13,
   "id": "2e7dc6a3-0317-4b46-902d-dba960fea26f",
   "metadata": {},
   "outputs": [
    {
     "data": {
      "text/plain": [
       "{'apple', 'banana', 'cherry', 'mango', 'orange'}"
      ]
     },
     "execution_count": 13,
     "metadata": {},
     "output_type": "execute_result"
    }
   ],
   "source": [
    "#In set duplicates not allowed\n",
    "def duplicates_in(lst):\n",
    "    #lst={'banana','mango','apple','banana','mango'}\n",
    "    return lst\n",
    "\n",
    "duplicates_in({'banana','mango','apple','mango','cherry','orange'})"
   ]
  },
  {
   "cell_type": "code",
   "execution_count": 79,
   "id": "35af1353-ffc1-410b-81b6-4f9f3b6be636",
   "metadata": {},
   "outputs": [
    {
     "data": {
      "text/plain": [
       "True"
      ]
     },
     "execution_count": 79,
     "metadata": {},
     "output_type": "execute_result"
    }
   ],
   "source": [
    "def check_word(lst):\n",
    "    if 'banana' in lst:\n",
    "        return True\n",
    "    else:\n",
    "        return False\n",
    "\n",
    "check_word({'banana','mango','apple','cherry','orange'})            "
   ]
  },
  {
   "cell_type": "code",
   "execution_count": 82,
   "id": "79c92160-04b2-4fc1-bb9e-7ec5ca2e80f5",
   "metadata": {},
   "outputs": [
    {
     "name": "stdin",
     "output_type": "stream",
     "text": [
      "Enter any Number 3\n"
     ]
    },
    {
     "name": "stdout",
     "output_type": "stream",
     "text": [
      "3\n",
      "its less than 40\n"
     ]
    }
   ],
   "source": [
    "Some_No = int(input('Enter any Number'))\n",
    "print(Some_No)\n",
    "\n",
    "if Some_No<40:\n",
    "    print('its less than 40')\n",
    "elif Some_No<40 and Some_No<25:\n",
    "    print('its less than 30')\n",
    "elif Some_no<20:\n",
    "    print('its less than 20')\n",
    "else:\n",
    "    print('its',Some_No)"
   ]
  },
  {
   "cell_type": "markdown",
   "id": "3e2ba78b-1199-4215-8c91-2edb6c306c8c",
   "metadata": {},
   "source": [
    "### in set you can add,update,remove,discard,pop(remove random item),clear(empty set),delete(nameerror)"
   ]
  },
  {
   "cell_type": "code",
   "execution_count": 73,
   "id": "182f2996-2e2f-4838-84e2-bba97d5b0f41",
   "metadata": {},
   "outputs": [
    {
     "name": "stdout",
     "output_type": "stream",
     "text": [
      "{'dog', 1, 2, 3, 4, 5, 6, 'b', 'a', 'dark', 'light', 'cat', 'rabit', 'c', 'ugly'}\n"
     ]
    }
   ],
   "source": [
    "# join two or multiple set (|) & union\n",
    "def join1(n1,n2,n3,n4):\n",
    "    set1=n1.union(n2,n3,n4)\n",
    "    #set1=n1|n2|n3|n4\n",
    "    print(set1)\n",
    "\n",
    "join1({1,2,3,4,5,6},{'a','b','c'},{'dog','cat','rabit'},{'dark','light','ugly'})"
   ]
  },
  {
   "cell_type": "code",
   "execution_count": 64,
   "id": "7a1ac52d-2ae8-49d7-9de1-4bbc2e2bf576",
   "metadata": {},
   "outputs": [
    {
     "data": {
      "text/plain": [
       "{1, 2}"
      ]
     },
     "execution_count": 64,
     "metadata": {},
     "output_type": "execute_result"
    }
   ],
   "source": [
    "#in set intersection or & (item present in both)\n",
    "def in_both(set1,set2):\n",
    "    set3=set1.intersection(set2)\n",
    "    #set3=set1 & set2\n",
    "    return set3\n",
    "\n",
    "in_both({1,2,3},{4,2,1})"
   ]
  },
  {
   "cell_type": "code",
   "execution_count": 3,
   "id": "8658701d-1be5-42a9-9837-134211045154",
   "metadata": {},
   "outputs": [
    {
     "name": "stdout",
     "output_type": "stream",
     "text": [
      "{False, 1, 'apple'}\n"
     ]
    }
   ],
   "source": [
    "set1 = {\"apple\", 1,  \"banana\", 0, \"cherry\"}\n",
    "set2 = {False, \"google\", 1, \"apple\", 2, True}\n",
    "\n",
    "set3 = set1.intersection(set2)\n",
    "#set3 = set1 & set2\n",
    "\n",
    "print(set3)"
   ]
  },
  {
   "cell_type": "code",
   "execution_count": 1,
   "id": "e9481b9e-747c-45d4-872b-9a30f371d8e5",
   "metadata": {},
   "outputs": [
    {
     "data": {
      "text/plain": [
       "1"
      ]
     },
     "execution_count": 1,
     "metadata": {},
     "output_type": "execute_result"
    }
   ],
   "source": [
    "int(True)"
   ]
  },
  {
   "cell_type": "code",
   "execution_count": 3,
   "id": "d7943a6b-a19a-4a64-9d12-8fa4a22c9554",
   "metadata": {},
   "outputs": [
    {
     "data": {
      "text/plain": [
       "0"
      ]
     },
     "execution_count": 3,
     "metadata": {},
     "output_type": "execute_result"
    }
   ],
   "source": [
    "int(False)"
   ]
  },
  {
   "cell_type": "code",
   "execution_count": 17,
   "id": "194165fb-f29d-4805-886a-b7e0f0da27ae",
   "metadata": {},
   "outputs": [
    {
     "name": "stdout",
     "output_type": "stream",
     "text": [
      "{'banana', 'cherry'}\n"
     ]
    }
   ],
   "source": [
    "set1 = {\"apple\",\"banana\",\"cherry\"}\n",
    "set2 = {\"microsoft\",\"google\",\"apple\"}\n",
    "#set1.intersection_update(set2)\n",
    "set1.difference_update(set2)\n",
    "print(set1)\n"
   ]
  },
  {
   "cell_type": "code",
   "execution_count": 21,
   "id": "d3be2bf6-c43d-4ac0-8eb1-14978f4cb163",
   "metadata": {},
   "outputs": [
    {
     "name": "stdout",
     "output_type": "stream",
     "text": [
      "{'banana', 'cherry'}\n"
     ]
    }
   ],
   "source": [
    "#in set difference or - are same\n",
    "set1 = {\"apple\", \"banana\" , \"cherry\"}\n",
    "set2 = {\"google\", \"microsoft\", \"apple\"}\n",
    "set3 = set1.difference(set2)\n",
    "#set3 = set1 - set2\n",
    "print(set3)\n"
   ]
  },
  {
   "cell_type": "code",
   "execution_count": 25,
   "id": "106093cb-754f-4021-ab31-424da5d746cd",
   "metadata": {},
   "outputs": [
    {
     "name": "stdout",
     "output_type": "stream",
     "text": [
      "{'microsoft', 'google', 'cherry', 'banana'}\n"
     ]
    }
   ],
   "source": [
    "#in set symmetric_difference or ^ are same\n",
    "set1 = {\"apple\", \"banana\" , \"cherry\"}\n",
    "set2 = {\"google\", \"microsoft\", \"apple\"}\n",
    "#set3 = set1.symmetric_difference(set2)\n",
    "set3 = set1 ^ set2\n",
    "print(set3)"
   ]
  },
  {
   "cell_type": "code",
   "execution_count": 27,
   "id": "09bbef02-9897-436a-a7df-2beaad300824",
   "metadata": {},
   "outputs": [
    {
     "name": "stdout",
     "output_type": "stream",
     "text": [
      "{'microsoft', 'google', 'cherry', 'banana'}\n"
     ]
    }
   ],
   "source": [
    "set1 = {\"apple\", \"banana\", \"cherry\"}\n",
    "set2 = {\"google\", \"microsoft\", \"apple\"}\n",
    "set1.symmetric_difference_update(set2)\n",
    "print(set1)"
   ]
  },
  {
   "cell_type": "code",
   "execution_count": 53,
   "id": "b6f0c0b3-2aec-4b87-b041-ff3e7059c596",
   "metadata": {},
   "outputs": [
    {
     "name": "stdout",
     "output_type": "stream",
     "text": [
      "Ford\n"
     ]
    }
   ],
   "source": [
    "thisdict = {\n",
    "  \"brand\": \"Ford\",\n",
    "  \"model\": \"Mustang\",\n",
    "  \"year\": 1964,\n",
    "  \"colors\": [\"red\", \"white\", \"blue\"]\n",
    "}\n",
    "#print(thisdict)\n",
    "#print(type(thisdict))\n",
    "print(thisdict['brand'])\n",
    "#print(len(thisdict))"
   ]
  },
  {
   "cell_type": "code",
   "execution_count": 45,
   "id": "fc8d2aa6-b8ee-484c-a790-80cbc3e6aaa3",
   "metadata": {},
   "outputs": [
    {
     "name": "stdout",
     "output_type": "stream",
     "text": [
      "{'name': 'Nilam', 'age': 24, 'country': 'India'}\n"
     ]
    }
   ],
   "source": [
    "thisdict = dict(name='Nilam',age=24,country='India')\n",
    "print(thisdict)"
   ]
  },
  {
   "cell_type": "code",
   "execution_count": 83,
   "id": "5847a198-84eb-44b5-8a16-cc12b48c9b02",
   "metadata": {},
   "outputs": [
    {
     "name": "stdout",
     "output_type": "stream",
     "text": [
      "dict_items([('brand', 'Ford'), ('model', 'Mustang'), ('year', 1964)])\n"
     ]
    }
   ],
   "source": [
    "thisdict = {\n",
    "  \"brand\": \"Ford\",\n",
    "  \"model\": \"Mustang\",\n",
    "  \"year\": 1964\n",
    "}\n",
    "#x = thisdict['model']\n",
    "#x = thisdict.get('model')\n",
    "#x = thisdict.keys()\n",
    "#x = thisdict.values()\n",
    "x = thisdict.items()\n",
    "print(x)"
   ]
  },
  {
   "cell_type": "code",
   "execution_count": 85,
   "id": "cbf9ae6e-97a4-4b2a-a8a7-2da95bcc8bd9",
   "metadata": {},
   "outputs": [
    {
     "name": "stdout",
     "output_type": "stream",
     "text": [
      "dict_items([('brand', 'Ford'), ('model', 'Mustang'), ('year', 1964)])\n",
      "dict_items([('brand', 'Ford'), ('model', 'Mustang'), ('year', 2020)])\n"
     ]
    }
   ],
   "source": [
    "car = {\n",
    "  \"brand\": \"Ford\",\n",
    "  \"model\": \"Mustang\",\n",
    "  \"year\": 1964\n",
    "}\n",
    "#x = car.keys()\n",
    "#x=car.values()\n",
    "x=car.items()\n",
    "print(x)\n",
    "#car['color']='white'\n",
    "car['year']=2020\n",
    "print(x)"
   ]
  },
  {
   "cell_type": "code",
   "execution_count": 133,
   "id": "b9fd7b9b-b587-4a0e-9d45-c76eb91708cc",
   "metadata": {},
   "outputs": [
    {
     "name": "stdout",
     "output_type": "stream",
     "text": [
      "{'brand': 'Ford', 'model': 'Mustang', 'year': 1964}\n"
     ]
    }
   ],
   "source": [
    "thisdict = {\n",
    "  \"brand\": \"Ford\",\n",
    "  \"model\": \"Mustang\",\n",
    "  \"year\": 1964\n",
    "}\n",
    "#thisdict[\"year\"] = 2018\n",
    "#thisdict.update({'year':2020})\n",
    "#thisdict.pop('model')\n",
    "#thisdict.popitem()\n",
    "#del thisdict['model']\n",
    "#del thisdict\n",
    "thisdict.copy()\n",
    "print(thisdict)"
   ]
  },
  {
   "cell_type": "code",
   "execution_count": 131,
   "id": "2c28091c-530f-4780-9cab-02ccb192ca10",
   "metadata": {},
   "outputs": [
    {
     "name": "stdout",
     "output_type": "stream",
     "text": [
      "brand Ford\n",
      "model Mustang\n",
      "year 1964\n"
     ]
    }
   ],
   "source": [
    "thisdict = {\n",
    "  \"brand\": \"Ford\",\n",
    "  \"model\": \"Mustang\",\n",
    "  \"year\": 1964\n",
    "}\n",
    "#for x in thisdict.keys():\n",
    "for x,y in thisdict.items():\n",
    "    print(x,y)"
   ]
  },
  {
   "cell_type": "code",
   "execution_count": 141,
   "id": "eb5e2fa0-7dfc-4a78-86d0-5450cb9ab95d",
   "metadata": {},
   "outputs": [
    {
     "name": "stdout",
     "output_type": "stream",
     "text": [
      "RCB\n"
     ]
    }
   ],
   "source": [
    "group = {\n",
    "    'team1': {\n",
    "        'name':'MI',\n",
    "        'WC': 5\n",
    "    },\n",
    "    'team2': {\n",
    "        'name':'RCB',\n",
    "        'WC': 10\n",
    "    },\n",
    "    'team3': {\n",
    "        'name': 'SRH',\n",
    "        'WC': 2\n",
    "    }\n",
    "}\n",
    "#print(group)\n",
    "print(group['team2']['name'])"
   ]
  },
  {
   "cell_type": "code",
   "execution_count": 19,
   "id": "5e3a7628-bee3-4601-8365-f2937d145f58",
   "metadata": {},
   "outputs": [],
   "source": [
    "import pandas as pd\n",
    "import matplotlib.pyplot as plt\n",
    "\n",
    "def plot_data(df):\n",
    "    \"\"\"\n",
    "    Plots multiple columns of a DataFrame as subplots in a single figure.\n",
    "    \n",
    "    Parameters:\n",
    "    df (DataFrame): The DataFrame containing the data to plot.\n",
    "    \"\"\"\n",
    "    num_columns = len(df.columns)\n",
    "    fig, axes = plt.subplots(nrows=num_columns, ncols=1, figsize=(10, 5 * num_columns))\n",
    "    \n",
    "    for i, column in enumerate(df.columns):\n",
    "        df[column].plot(ax=axes[i], title=column, legend=True)\n",
    "        axes[i].set_xlabel('Index')\n",
    "        axes[i].set_ylabel(column)\n",
    "        axes[i].legend([column])\n",
    "    \n",
    "    plt.tight_layout()\n",
    "    plt.show()\n",
    "\n",
    "# Example usage:\n",
    "# df = pd.DataFrame({\n",
    "#     'A': [1, 2, 3, 4, 5],\n",
    "#     'B': [5, 4, 3, 2, 1],\n",
    "#     'C': [2, 3, 4, 5, 6]\n",
    "# })\n",
    "# plot_data(df)\n"
   ]
  },
  {
   "cell_type": "code",
   "execution_count": 25,
   "id": "77bf5360-692a-4d5a-9054-8ff5e40e5a0f",
   "metadata": {},
   "outputs": [
    {
     "data": {
      "text/plain": [
       "<Axes: >"
      ]
     },
     "execution_count": 25,
     "metadata": {},
     "output_type": "execute_result"
    },
    {
     "data": {
      "image/png": "[encoded data removed]",
      "text/plain": [
       "<Figure size 640x480 with 4 Axes>"
      ]
     },
     "metadata": {},
     "output_type": "display_data"
    },
    {
     "data": {
      "image/png": "[encoded data removed]",
      "text/plain": [
       "<Figure size 640x480 with 4 Axes>"
      ]
     },
     "metadata": {},
     "output_type": "display_data"
    }
   ],
   "source": [
    "import matplotlib.pyplot as plt\n",
    "\n",
    "#define subplot layout\n",
    "fig, axes = plt.subplots(nrows=2, ncols=2)\n",
    "\n",
    "#add DataFrames to subplots\n",
    "\n",
    "\n",
    "import pandas as pd\n",
    "\n",
    "#create four DataFrames\n",
    "df1 = pd.DataFrame({'sales': [2, 5, 5, 7, 9, 13, 15, 17, 22, 24],\n",
    "                    'returns': [1, 2, 3, 4, 5, 6, 7, 8, 7, 5]})\n",
    "\n",
    "df2 = pd.DataFrame({'sales': [2, 5, 11, 18, 15, 15, 14, 9, 6, 7],\n",
    "                    'returns': [1, 2, 0, 2, 2, 4, 5, 4, 2, 1]})\n",
    "\n",
    "df3 = pd.DataFrame({'sales': [6, 8, 8, 7, 8, 9, 10, 7, 8, 12],\n",
    "                    'returns': [1,0, 1, 1, 1, 2, 3, 2, 1, 3]})\n",
    "\n",
    "df4 = pd.DataFrame({'sales': [10, 7, 7, 6, 7, 6, 4, 3, 3, 2],\n",
    "                    'returns': [4, 4, 3, 3, 2, 3, 2, 1, 1, 0]})\n",
    "\n",
    "df1.plot(ax=axes[0,0])\n",
    "df2.plot(ax=axes[0,1])\n",
    "df3.plot(ax=axes[1,0])\n",
    "df4.plot(ax=axes[1,1])\n",
    "\n",
    "import matplotlib.pyplot as plt\n",
    "\n",
    "#define subplot layout\n",
    "fig, axes = plt.subplots(nrows=2, ncols=2)\n",
    "\n",
    "#add DataFrames to subplots\n",
    "df1.plot(ax=axes[0,0])\n",
    "df2.plot(ax=axes[0,1])\n",
    "df3.plot(ax=axes[1,0])\n",
    "df4.plot(ax=axes[1,1])"
   ]
  },
  {
   "cell_type": "code",
   "execution_count": null,
   "id": "e27dbe4c-1a71-40d6-b8fc-7305376b6932",
   "metadata": {},
   "outputs": [],
   "source": []
  }
 ],
 "metadata": {
  "kernelspec": {
   "display_name": "Python 3 (ipykernel)",
   "language": "python",
   "name": "python3"
  },
  "language_info": {
   "codemirror_mode": {
    "name": "ipython",
    "version": 3
   },
   "file_extension": ".py",
   "mimetype": "text/x-python",
   "name": "python",
   "nbconvert_exporter": "python",
   "pygments_lexer": "ipython3",
   "version": "3.11.7"
  }
 },
 "nbformat": 4,
 "nbformat_minor": 5
}
