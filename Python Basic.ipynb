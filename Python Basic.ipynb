{
 "cells": [
  {
   "cell_type": "code",
   "execution_count": 1,
   "id": "a4e5c4bc-f31c-4d89-98a5-626f0ba0c6bb",
   "metadata": {},
   "outputs": [],
   "source": [
    "# Introduction to Python Programming\n",
    "# Getting Started\n",
    "# Python - python.org - Python is a langugage which can be written in various tools like anaconda, pycharm\n",
    "# But we can install anaconda which comes with python inbuilt"
   ]
  },
  {
   "cell_type": "code",
   "execution_count": 3,
   "id": "34014399-abab-4dad-972b-c91ae3bd704a",
   "metadata": {},
   "outputs": [
    {
     "name": "stdout",
     "output_type": "stream",
     "text": [
      "sys.version_info(major=3, minor=11, micro=7, releaselevel='final', serial=0)\n",
      "1013\n",
      "['C:\\\\Users\\\\Admin', 'C:\\\\Users\\\\Admin\\\\anaconda3\\\\python311.zip', 'C:\\\\Users\\\\Admin\\\\anaconda3\\\\DLLs', 'C:\\\\Users\\\\Admin\\\\anaconda3\\\\Lib', 'C:\\\\Users\\\\Admin\\\\anaconda3', '', 'C:\\\\Users\\\\Admin\\\\anaconda3\\\\Lib\\\\site-packages', 'C:\\\\Users\\\\Admin\\\\anaconda3\\\\Lib\\\\site-packages\\\\win32', 'C:\\\\Users\\\\Admin\\\\anaconda3\\\\Lib\\\\site-packages\\\\win32\\\\lib', 'C:\\\\Users\\\\Admin\\\\anaconda3\\\\Lib\\\\site-packages\\\\Pythonwin']\n"
     ]
    }
   ],
   "source": [
    "import sys\n",
    "print(sys.version_info)\n",
    "print(sys.api_version)\n",
    "print(sys.path)"
   ]
  },
  {
   "cell_type": "code",
   "execution_count": 8,
   "id": "8785a529-70f5-4b8f-b071-ae9abcbc3db5",
   "metadata": {},
   "outputs": [
    {
     "name": "stdout",
     "output_type": "stream",
     "text": [
      "C:\\Users\\Admin\n",
      "None\n",
      "C:\\Users\\admin\\Desktop\n"
     ]
    }
   ],
   "source": [
    "import os\n",
    "\n",
    "print(os.getcwd())\n",
    "\n",
    "print(os.chdir(r'C:\\Users\\admin\\Desktop'))\n",
    "\n",
    "print(os.getcwd())"
   ]
  },
  {
   "cell_type": "code",
   "execution_count": 10,
   "id": "c576f470-0e98-45dd-838d-4d4d7f26cf11",
   "metadata": {},
   "outputs": [
    {
     "name": "stdout",
     "output_type": "stream",
     "text": [
      "hello world\n"
     ]
    }
   ],
   "source": [
    "print('hello world')"
   ]
  },
  {
   "cell_type": "code",
   "execution_count": 12,
   "id": "3a0783ce-f0b1-46f9-9055-c92ce9ca69ba",
   "metadata": {},
   "outputs": [
    {
     "name": "stdout",
     "output_type": "stream",
     "text": [
      "<class 'str'>\n",
      "<class 'int'>\n",
      "<class 'float'>\n",
      "this is the value of a Hello\n"
     ]
    }
   ],
   "source": [
    "a = 'Hello'\n",
    "b  =  50\n",
    "c = 2.5\n",
    "\n",
    "print(type(a))\n",
    "print(type(b))\n",
    "print(type(c))\n",
    "\n",
    "print('this is the value of a',a)"
   ]
  },
  {
   "cell_type": "code",
   "execution_count": 14,
   "id": "af21ac75-fe0c-4e94-a46c-6e3fc7f969b3",
   "metadata": {},
   "outputs": [
    {
     "name": "stdout",
     "output_type": "stream",
     "text": [
      "this is addition 20\n",
      "Subtracting Number 3 from 12 is :  10\n",
      "Multiplication of two numbers 12 and 3 is :  75\n",
      "Division of two numbers 12 and 3 is :  3.0\n",
      "Modulus of two numbers 12 and 3 is :  0\n",
      "Exponent of two numbers 12 and 3 is :  759375\n",
      "Floor Division of two numbers 12 and 3 is :  3\n"
     ]
    }
   ],
   "source": [
    "a = 15\n",
    "b = 5\n",
    "addition = a + b\n",
    "subtraction = a - b\n",
    "multiplication = a * b\n",
    "division = a / b\n",
    "modulus = a % b\n",
    "exponent = a ** b\n",
    "Floor_Division = a // b\n",
    "\n",
    "\n",
    "print('this is addition',addition)\n",
    "print(\"Subtracting Number 3 from 12 is : \", subtraction)\n",
    "print(\"Multiplication of two numbers 12 and 3 is : \", multiplication)\n",
    "print(\"Division of two numbers 12 and 3 is : \", division)\n",
    "print(\"Modulus of two numbers 12 and 3 is : \", modulus)\n",
    "print(\"Exponent of two numbers 12 and 3 is : \", exponent)\n",
    "print(\"Floor Division of two numbers 12 and 3 is : \", Floor_Division)"
   ]
  },
  {
   "cell_type": "code",
   "execution_count": 18,
   "id": "dea60894-4a29-4ba6-bc51-dae714015160",
   "metadata": {},
   "outputs": [
    {
     "name": "stdout",
     "output_type": "stream",
     "text": [
      "8\n",
      "40\n",
      "384\n",
      "1.5\n",
      "16\n",
      "Ramesh--Suresh\n"
     ]
    }
   ],
   "source": [
    "age = 24\n",
    "age2= 16\n",
    "print(age-age2)\n",
    "print(age+age2)\n",
    "print(age*age2)\n",
    "print(age/age2)\n",
    "print(age2%age)\n",
    "\n",
    "\n",
    "firstname = 'Ramesh'\n",
    "lastname = 'Suresh'\n",
    "print(firstname+'--'+lastname)"
   ]
  },
  {
   "cell_type": "code",
   "execution_count": 22,
   "id": "1f70606d-f931-49ac-9217-496bbc64376b",
   "metadata": {},
   "outputs": [
    {
     "data": {
      "text/plain": [
       "'Ram'"
      ]
     },
     "execution_count": 22,
     "metadata": {},
     "output_type": "execute_result"
    }
   ],
   "source": [
    "firstname[0:3]"
   ]
  },
  {
   "cell_type": "code",
   "execution_count": 24,
   "id": "9e0a82b4-718f-41ab-9d28-04068d27fdf8",
   "metadata": {},
   "outputs": [
    {
     "data": {
      "text/plain": [
       "'h'"
      ]
     },
     "execution_count": 24,
     "metadata": {},
     "output_type": "execute_result"
    }
   ],
   "source": [
    "sentence= 'he'\n",
    "sentence[0]"
   ]
  },
  {
   "cell_type": "code",
   "execution_count": 28,
   "id": "bbcf91d5-fc2c-44ed-a6a1-e5069b473878",
   "metadata": {},
   "outputs": [
    {
     "name": "stdout",
     "output_type": "stream",
     "text": [
      "30\n",
      "6\n"
     ]
    }
   ],
   "source": [
    "num = 30\n",
    "print(num)\n",
    "num2 = 6\n",
    "print(num2)"
   ]
  },
  {
   "cell_type": "code",
   "execution_count": 30,
   "id": "4a288cfe-efe9-442f-b3a1-9d55017899a2",
   "metadata": {},
   "outputs": [
    {
     "name": "stdin",
     "output_type": "stream",
     "text": [
      "Enter your name Nilam\n"
     ]
    },
    {
     "name": "stdout",
     "output_type": "stream",
     "text": [
      "Nilam\n"
     ]
    }
   ],
   "source": [
    "name = input('Enter your name')\n",
    "\n",
    "print(name)"
   ]
  },
  {
   "cell_type": "code",
   "execution_count": 36,
   "id": "3bc1ab18-a693-4f6e-b27f-77d0d3c352cc",
   "metadata": {},
   "outputs": [],
   "source": [
    "# Data Structures\n",
    "\n",
    "#Data \n",
    "\n",
    "#Lists =[1,2,3]\n",
    "#Tuple = (1,2,3)\n",
    "#Dictionary = {'name':['Ram','Sham'],'Age':[10,20]}\n",
    "#Sets = {1,2,3}"
   ]
  },
  {
   "cell_type": "markdown",
   "id": "46231f29-1290-47a5-abeb-07180c940937",
   "metadata": {},
   "source": [
    "## Lists"
   ]
  },
  {
   "cell_type": "code",
   "execution_count": 38,
   "id": "115d2d95-1ee6-4ef9-a537-f4a9dae87496",
   "metadata": {},
   "outputs": [
    {
     "name": "stdout",
     "output_type": "stream",
     "text": [
      "('japan', 'dubai', 'korea')\n"
     ]
    }
   ],
   "source": [
    "thislist = (\"japan\", \"dubai\", \"korea\")\n",
    "print(thislist)"
   ]
  },
  {
   "cell_type": "code",
   "execution_count": 40,
   "id": "ad0b1141-cbbc-4388-8126-3f976922e172",
   "metadata": {},
   "outputs": [
    {
     "name": "stdout",
     "output_type": "stream",
     "text": [
      "('japan', 'dubai')\n"
     ]
    }
   ],
   "source": [
    "thislist = (\"japan\", \"dubai\", \"korea\")\n",
    "print(thislist[0:2])"
   ]
  },
  {
   "cell_type": "code",
   "execution_count": 42,
   "id": "8d0a5330-84b9-4ba6-8503-cd7f890aa9f7",
   "metadata": {},
   "outputs": [
    {
     "name": "stdout",
     "output_type": "stream",
     "text": [
      "japan\n"
     ]
    }
   ],
   "source": [
    "thislist = (\"japan\", \"dubai\", \"korea\")\n",
    "print(thislist[-3])"
   ]
  },
  {
   "cell_type": "code",
   "execution_count": 44,
   "id": "d4e64789-8b48-4de0-a6f9-abd4bcd42f22",
   "metadata": {},
   "outputs": [
    {
     "name": "stdout",
     "output_type": "stream",
     "text": [
      "('korea', 'thailand', 'taiwan')\n"
     ]
    }
   ],
   "source": [
    "thislist = (\"japan\", \"dubai\", \"korea\",'thailand','taiwan')\n",
    "print(thislist[2:5])"
   ]
  },
  {
   "cell_type": "markdown",
   "id": "52003127-27e5-49c8-96fe-0fc797c9d5c3",
   "metadata": {},
   "source": [
    "## string"
   ]
  },
  {
   "cell_type": "code",
   "execution_count": 46,
   "id": "98432f28-67fb-4e0f-912d-1129990ccda4",
   "metadata": {},
   "outputs": [
    {
     "name": "stdin",
     "output_type": "stream",
     "text": [
      "where would you like to go for travel japan\n"
     ]
    },
    {
     "data": {
      "text/plain": [
       "'japan'"
      ]
     },
     "execution_count": 46,
     "metadata": {},
     "output_type": "execute_result"
    }
   ],
   "source": [
    "travel=input('where would you like to go for travel')\n",
    "travel"
   ]
  },
  {
   "cell_type": "code",
   "execution_count": 48,
   "id": "a14c80d2-cc0e-4a54-b463-b50b8b6a9798",
   "metadata": {},
   "outputs": [
    {
     "data": {
      "text/plain": [
       "'j'"
      ]
     },
     "execution_count": 48,
     "metadata": {},
     "output_type": "execute_result"
    }
   ],
   "source": [
    "travel[0]"
   ]
  },
  {
   "cell_type": "code",
   "execution_count": 60,
   "id": "097a5887-0a27-49d0-8db2-f9a5c66a70f9",
   "metadata": {},
   "outputs": [
    {
     "data": {
      "text/plain": [
       "True"
      ]
     },
     "execution_count": 60,
     "metadata": {},
     "output_type": "execute_result"
    }
   ],
   "source": [
    "travel.upper()\n",
    "travel.lower()\n",
    "travel.capitalize()\n",
    "travel.startswith('j')"
   ]
  },
  {
   "cell_type": "code",
   "execution_count": 62,
   "id": "7b6f811b-23b9-42fa-825a-f7d573120ea2",
   "metadata": {},
   "outputs": [
    {
     "data": {
      "text/plain": [
       "['ja', 'an']"
      ]
     },
     "execution_count": 62,
     "metadata": {},
     "output_type": "execute_result"
    }
   ],
   "source": [
    "token=travel.split('p')\n",
    "token"
   ]
  },
  {
   "cell_type": "markdown",
   "id": "9e44583e-3d9b-403a-9b93-40c0d310fbd2",
   "metadata": {},
   "source": [
    "## Tuples"
   ]
  },
  {
   "cell_type": "code",
   "execution_count": 66,
   "id": "2cb15561-e718-4807-a70f-9da0dee74e16",
   "metadata": {},
   "outputs": [
    {
     "data": {
      "text/plain": [
       "('Suresh', 'Ramesh', 90, 40)"
      ]
     },
     "execution_count": 66,
     "metadata": {},
     "output_type": "execute_result"
    }
   ],
   "source": [
    "tuples = ('Suresh','Ramesh',90,40)\n",
    "tuples"
   ]
  },
  {
   "cell_type": "code",
   "execution_count": 82,
   "id": "489d2a98-50f8-451d-bcf1-c631c77a2e8b",
   "metadata": {},
   "outputs": [
    {
     "data": {
      "text/plain": [
       "'Ramesh'"
      ]
     },
     "execution_count": 82,
     "metadata": {},
     "output_type": "execute_result"
    }
   ],
   "source": [
    "tuples.count(90)\n",
    "tuples.index('Suresh')\n",
    "tuples[1]"
   ]
  },
  {
   "cell_type": "code",
   "execution_count": 86,
   "id": "f8506ade-3dfb-43d3-93b9-687c04f08cc7",
   "metadata": {},
   "outputs": [
    {
     "data": {
      "text/plain": [
       "4"
      ]
     },
     "execution_count": 86,
     "metadata": {},
     "output_type": "execute_result"
    }
   ],
   "source": [
    "len(tuples)"
   ]
  },
  {
   "cell_type": "markdown",
   "id": "f9928f73-ae98-4c04-8f3a-55a2a95ef681",
   "metadata": {},
   "source": [
    "## Dictionary"
   ]
  },
  {
   "cell_type": "code",
   "execution_count": 90,
   "id": "5ab18260-1d98-43c1-93b1-302aae2285f4",
   "metadata": {},
   "outputs": [
    {
     "name": "stdout",
     "output_type": "stream",
     "text": [
      "{}\n"
     ]
    }
   ],
   "source": [
    "emptydict={}\n",
    "print(emptydict)"
   ]
  },
  {
   "cell_type": "code",
   "execution_count": 92,
   "id": "8b467322-cb7b-41e8-ba00-c05696e4df56",
   "metadata": {},
   "outputs": [
    {
     "data": {
      "text/plain": [
       "{'sun': 'moon', 'day': 'night', 'south': 'north', 'up': 'down'}"
      ]
     },
     "execution_count": 92,
     "metadata": {},
     "output_type": "execute_result"
    }
   ],
   "source": [
    "opposite={'sun':'moon',\n",
    "          'day':'night',\n",
    "          'south':'north',\n",
    "          'up':'down'\n",
    "         }\n",
    "opposite"
   ]
  },
  {
   "cell_type": "code",
   "execution_count": 110,
   "id": "65776def-8b24-42a1-a699-79ad089c1f10",
   "metadata": {},
   "outputs": [
    {
     "name": "stdout",
     "output_type": "stream",
     "text": [
      "dict_keys(['virat', 'bumrah', 'watson'])\n",
      "dict_values([89, 40, 70])\n"
     ]
    }
   ],
   "source": [
    "playerscores={'virat':89,'bumrah':40,'watson':70}\n",
    "print(playerscores.keys())\n",
    "print(playerscores.values())"
   ]
  },
  {
   "cell_type": "code",
   "execution_count": 112,
   "id": "16a8934f-fc6c-4e07-8609-e0cb96ce5d27",
   "metadata": {},
   "outputs": [
    {
     "name": "stdout",
     "output_type": "stream",
     "text": [
      "{'RCB': {'virat': 90, 'siraj': 50, 'faf': 70}, 'MI': {'rohit': 40, 'bumrah': 20, 'hardik': 60}, 'SRH': {'cummins': 55, 'abhi': 75, 'head': 85}}\n"
     ]
    }
   ],
   "source": [
    "iplscores={'RCB':{'virat':90,'siraj':50,'faf':70},\n",
    "           'MI':{'rohit':40,'bumrah':20,'hardik':60},\n",
    "           'SRH':{'cummins':55,'abhi':75,'head':85}}\n",
    "print(iplscores)"
   ]
  },
  {
   "cell_type": "markdown",
   "id": "14d12ba3-0858-422b-9474-3436d3b05aef",
   "metadata": {},
   "source": [
    "## set"
   ]
  },
  {
   "cell_type": "code",
   "execution_count": 7,
   "id": "dd3512f0-3e50-4484-b0dd-280d4a3e01ba",
   "metadata": {},
   "outputs": [
    {
     "name": "stdout",
     "output_type": "stream",
     "text": [
      "{'orange', 'white', 'blue', 'gray', 'purple', 'yellow'}\n"
     ]
    }
   ],
   "source": [
    "thisset={'purple','white','gray','orange','blue','yellow'}\n",
    "print(thisset)"
   ]
  },
  {
   "cell_type": "code",
   "execution_count": 13,
   "id": "a6639ce9-a21d-4ed8-b69d-038570c7a05a",
   "metadata": {},
   "outputs": [
    {
     "name": "stdout",
     "output_type": "stream",
     "text": [
      "orange\n",
      "white\n",
      "blue\n",
      "gray\n",
      "purple\n",
      "yellow\n"
     ]
    }
   ],
   "source": [
    "thisset={'purple','white','gray','orange','blue','yellow'}\n",
    "for colours in thisset:\n",
    "    print(colours)"
   ]
  },
  {
   "cell_type": "code",
   "execution_count": 15,
   "id": "d4337e76-4c75-4f0c-a93f-d61723fdf83e",
   "metadata": {},
   "outputs": [
    {
     "name": "stdout",
     "output_type": "stream",
     "text": [
      "True\n"
     ]
    }
   ],
   "source": [
    "thisset={'purple','white','gray','orange','blue','yellow'}\n",
    "print('gray' in thisset)"
   ]
  },
  {
   "cell_type": "code",
   "execution_count": 19,
   "id": "52d6b5ab-6629-4df0-9c5e-536084c4c539",
   "metadata": {},
   "outputs": [
    {
     "name": "stdout",
     "output_type": "stream",
     "text": [
      "{'orange', 'white', 'blue', 'gray', 'black', 'purple', 'yellow'}\n"
     ]
    }
   ],
   "source": [
    "thisset.add('black')\n",
    "print(thisset)\n",
    "#we can use add,update,remove,discard,pop,clear,del"
   ]
  },
  {
   "cell_type": "markdown",
   "id": "e72e25b1-415e-4290-a701-870460b615c6",
   "metadata": {},
   "source": [
    "## Boolean Operators"
   ]
  },
  {
   "cell_type": "code",
   "execution_count": 23,
   "id": "5d149151-a917-45d3-86f4-8bed5bbdda87",
   "metadata": {},
   "outputs": [
    {
     "data": {
      "text/plain": [
       "True"
      ]
     },
     "execution_count": 23,
     "metadata": {},
     "output_type": "execute_result"
    }
   ],
   "source": [
    "5>1"
   ]
  },
  {
   "cell_type": "code",
   "execution_count": 27,
   "id": "b2b2cfec-a41e-4c28-9484-37dee3849aad",
   "metadata": {},
   "outputs": [
    {
     "data": {
      "text/plain": [
       "True"
      ]
     },
     "execution_count": 27,
     "metadata": {},
     "output_type": "execute_result"
    }
   ],
   "source": [
    "len('Hello')>3"
   ]
  },
  {
   "cell_type": "code",
   "execution_count": 30,
   "id": "f62b630f-8969-44da-920d-729627da83d8",
   "metadata": {},
   "outputs": [
    {
     "data": {
      "text/plain": [
       "bool"
      ]
     },
     "execution_count": 30,
     "metadata": {},
     "output_type": "execute_result"
    }
   ],
   "source": [
    "type(len('Hello')>3)"
   ]
  },
  {
   "cell_type": "code",
   "execution_count": 40,
   "id": "290dcd73-f2c7-493e-857c-98a205dc4182",
   "metadata": {},
   "outputs": [
    {
     "data": {
      "text/plain": [
       "True"
      ]
     },
     "execution_count": 40,
     "metadata": {},
     "output_type": "execute_result"
    }
   ],
   "source": [
    "6%3==0"
   ]
  },
  {
   "cell_type": "markdown",
   "id": "c6c1828c-36b2-485c-b04d-1a117c2a037c",
   "metadata": {},
   "source": [
    "## Conversions"
   ]
  },
  {
   "cell_type": "code",
   "execution_count": 42,
   "id": "bc0f81b8-b133-46e1-af58-7331b1b6b798",
   "metadata": {},
   "outputs": [
    {
     "name": "stdout",
     "output_type": "stream",
     "text": [
      "10000\n",
      "1234\n",
      "10000\n",
      "<class 'str'>\n",
      "<class 'int'>\n",
      "<class 'int'>\n"
     ]
    }
   ],
   "source": [
    "somestring = '10000'\n",
    "nums = 1234\n",
    "\n",
    "newstring = int(somestring)\n",
    "print(somestring)\n",
    "print(nums)\n",
    "print(newstring)\n",
    "print(type(somestring))\n",
    "print(type(nums))\n",
    "print(type(newstring))"
   ]
  },
  {
   "cell_type": "code",
   "execution_count": 48,
   "id": "2204f69e-b01a-4796-9db0-71fd305f38c1",
   "metadata": {},
   "outputs": [
    {
     "data": {
      "text/plain": [
       "10000.0"
      ]
     },
     "execution_count": 48,
     "metadata": {},
     "output_type": "execute_result"
    }
   ],
   "source": [
    "floatint = float(somestring)\n",
    "type(floatint)\n",
    "floatint"
   ]
  },
  {
   "cell_type": "markdown",
   "id": "4f59c189-812a-4c94-b903-b285544930a0",
   "metadata": {},
   "source": [
    "## Slicing & Operators"
   ]
  },
  {
   "cell_type": "code",
   "execution_count": 74,
   "id": "a6f977e1-3669-4cae-bf90-664dc54f1c9f",
   "metadata": {},
   "outputs": [
    {
     "data": {
      "text/plain": [
       "['thalapathi']"
      ]
     },
     "execution_count": 74,
     "metadata": {},
     "output_type": "execute_result"
    }
   ],
   "source": [
    "Actors=['sethupathi','fahad','pathanoni','nani']\n",
    "Actors[0:-4]=['thalapathi']\n",
    "Actors\n",
    "Actors[0:-4]"
   ]
  },
  {
   "cell_type": "markdown",
   "id": "ed24ea07-ffaf-4bf4-a6d7-4cea5b43a6a9",
   "metadata": {},
   "source": [
    "## For Loops"
   ]
  },
  {
   "cell_type": "code",
   "execution_count": 78,
   "id": "5cbf7626-7c00-4fc0-8552-f1d91124d2c3",
   "metadata": {},
   "outputs": [
    {
     "name": "stdout",
     "output_type": "stream",
     "text": [
      "['Google', 'Apple', 'Dell', 'Facebook', 'Intel']\n"
     ]
    }
   ],
   "source": [
    "techcompanies = ['Google','Apple','Dell','Facebook','Intel']\n",
    "print(techcompanies)"
   ]
  },
  {
   "cell_type": "code",
   "execution_count": 80,
   "id": "3f75b297-e41e-43a0-b0f5-274161bbd3f3",
   "metadata": {},
   "outputs": [
    {
     "name": "stdout",
     "output_type": "stream",
     "text": [
      "current values is 1\n",
      "current values is 2\n",
      "current values is 3\n",
      "current values is 4\n",
      "current values is 5\n"
     ]
    }
   ],
   "source": [
    "mathscores = {'ram':20,'sham':30,'Krishna':40}\n",
    "\n",
    "sumnombers = [1,2,3,4,5]\n",
    "for i in sumnombers:\n",
    "    print('current values is',i)"
   ]
  },
  {
   "cell_type": "code",
   "execution_count": 82,
   "id": "0859f84a-7b08-4b34-a27a-48b3b6d9e079",
   "metadata": {},
   "outputs": [
    {
     "name": "stdout",
     "output_type": "stream",
     "text": [
      "current total values is 1\n",
      "current total values is 3\n",
      "current total values is 6\n",
      "current total values is 10\n",
      "current total values is 15\n"
     ]
    }
   ],
   "source": [
    "total =  0\n",
    "for number in sumnombers:\n",
    "    total = total+number\n",
    "    print('current total values is',total)"
   ]
  },
  {
   "cell_type": "code",
   "execution_count": 84,
   "id": "9779806f-233c-4a87-aa54-c2d50a6b7af5",
   "metadata": {},
   "outputs": [
    {
     "name": "stdout",
     "output_type": "stream",
     "text": [
      "1 apple\n",
      "1 banana\n",
      "1 cheery\n",
      "1 grapes\n",
      "2 apple\n",
      "2 banana\n",
      "2 cheery\n",
      "2 grapes\n"
     ]
    }
   ],
   "source": [
    "for i in range(1,3):\n",
    "    for j in ('apple','banana','cheery','grapes'):\n",
    "        print(i,j)"
   ]
  },
  {
   "cell_type": "code",
   "execution_count": 92,
   "id": "b8c8f45d-6e2a-4d59-a0fc-c24d558073fd",
   "metadata": {},
   "outputs": [
    {
     "name": "stdout",
     "output_type": "stream",
     "text": [
      "1\n",
      "2\n",
      "3\n",
      "4\n",
      "5\n",
      "6\n",
      "7\n",
      "8\n",
      "9\n",
      "10\n"
     ]
    }
   ],
   "source": [
    "for i in range(1,11):\n",
    "    print(i)"
   ]
  },
  {
   "cell_type": "markdown",
   "id": "601564b7-87a8-43b7-bfed-b2df0c1fef9a",
   "metadata": {},
   "source": [
    "## If Else Loops"
   ]
  },
  {
   "cell_type": "code",
   "execution_count": 94,
   "id": "13ff910d-cd89-4dbf-879b-f5e6a219ac87",
   "metadata": {},
   "outputs": [
    {
     "name": "stdout",
     "output_type": "stream",
     "text": [
      "yes\n"
     ]
    }
   ],
   "source": [
    "if 5<20:\n",
    "    print('yes')\n",
    "else:\n",
    "    print('no')"
   ]
  },
  {
   "cell_type": "code",
   "execution_count": 96,
   "id": "71b2c5e5-0170-4000-bf06-90c989bebd51",
   "metadata": {},
   "outputs": [
    {
     "name": "stdin",
     "output_type": "stream",
     "text": [
      "Enter your age 24\n"
     ]
    },
    {
     "name": "stdout",
     "output_type": "stream",
     "text": [
      "You are an Adult\n"
     ]
    }
   ],
   "source": [
    "# Taking input\n",
    "age = float(input('Enter your age'))\n",
    "if age>=18:\n",
    "    print('You are an Adult')\n",
    "elif age>=13 and age<18:\n",
    "    print('you are a teenager')\n",
    "else:\n",
    "    print('you are young')"
   ]
  },
  {
   "cell_type": "code",
   "execution_count": 98,
   "id": "5e300b0b-c18b-4495-b127-853052bc1c48",
   "metadata": {},
   "outputs": [
    {
     "name": "stdout",
     "output_type": "stream",
     "text": [
      "sham is high\n"
     ]
    }
   ],
   "source": [
    "# conditional statements\n",
    "ram =50\n",
    "sham = 100\n",
    "if ram>sham:\n",
    "    print('ram is higher')\n",
    "elif ram==sham:\n",
    "    print('ram is equal to sham')\n",
    "else:\n",
    "    print('sham is high')"
   ]
  },
  {
   "cell_type": "code",
   "execution_count": 100,
   "id": "4f294e96-c43a-4253-9c97-11ea0f4555fe",
   "metadata": {},
   "outputs": [
    {
     "name": "stdout",
     "output_type": "stream",
     "text": [
      "True\n",
      "False\n",
      "False\n"
     ]
    }
   ],
   "source": [
    "print(3>=2)\n",
    "print(3==2)\n",
    "print(2!=2)"
   ]
  },
  {
   "cell_type": "markdown",
   "id": "c52131a3-c7da-4c16-b221-a50d89452d1a",
   "metadata": {},
   "source": [
    "## While Loops"
   ]
  },
  {
   "cell_type": "code",
   "execution_count": 104,
   "id": "3ad253b0-7ec0-4472-8013-8c8d901bf7ed",
   "metadata": {},
   "outputs": [],
   "source": [
    "count= 10\n",
    "while count<5:\n",
    "    print(count)"
   ]
  },
  {
   "cell_type": "code",
   "execution_count": 1,
   "id": "ec9a64f5-4d3d-4364-8cb7-73e108923e78",
   "metadata": {},
   "outputs": [],
   "source": [
    "#infinite Loop\n",
    "\n",
    "count=4\n",
    "while count<1:\n",
    "    print(count)"
   ]
  },
  {
   "cell_type": "code",
   "execution_count": 3,
   "id": "abca6a17-957d-44f0-845b-34b78f4da7bf",
   "metadata": {},
   "outputs": [
    {
     "name": "stdout",
     "output_type": "stream",
     "text": [
      "0\n",
      "1\n",
      "2\n",
      "3\n",
      "4\n"
     ]
    }
   ],
   "source": [
    "count = 0\n",
    "while count<5:\n",
    "    print(count)\n",
    "    count = count+1"
   ]
  },
  {
   "cell_type": "code",
   "execution_count": 11,
   "id": "d04ac73a-a4a3-421f-a7c5-0c6a6e358a0e",
   "metadata": {},
   "outputs": [
    {
     "name": "stdin",
     "output_type": "stream",
     "text": [
      "Enter a number 3\n",
      "Enter a number 5\n",
      "Enter a number 7\n",
      "Enter a number 9\n",
      "Enter a number 2\n"
     ]
    }
   ],
   "source": [
    "while True:\n",
    "    num =int(input('Enter a number'))\n",
    "    if num%2==0:\n",
    "        break"
   ]
  },
  {
   "cell_type": "markdown",
   "id": "76ca84c2-ec42-4052-b229-fef4b8951388",
   "metadata": {},
   "source": [
    "## Range"
   ]
  },
  {
   "cell_type": "code",
   "execution_count": 13,
   "id": "122ac4a3-94e8-408a-85a4-7f9553ea2158",
   "metadata": {},
   "outputs": [
    {
     "name": "stdout",
     "output_type": "stream",
     "text": [
      "0\n",
      "1\n",
      "2\n",
      "3\n",
      "4\n"
     ]
    }
   ],
   "source": [
    "for i in range(5):\n",
    "    print(i)"
   ]
  },
  {
   "cell_type": "markdown",
   "id": "8b22ffbb-3aec-4a1c-9418-db6c23ebe6be",
   "metadata": {},
   "source": [
    "## Break & Continue"
   ]
  },
  {
   "cell_type": "code",
   "execution_count": 15,
   "id": "69d03ed0-2f1d-4f53-8ab4-27f99fdbdaea",
   "metadata": {},
   "outputs": [
    {
     "name": "stdout",
     "output_type": "stream",
     "text": [
      "0\n",
      "1\n",
      "2\n"
     ]
    }
   ],
   "source": [
    "for i in range(5):\n",
    "    if i==3:\n",
    "        break\n",
    "    print(i)   "
   ]
  },
  {
   "cell_type": "code",
   "execution_count": 17,
   "id": "ecfb6465-8ec1-42f0-af0f-8f9ecd5d27e1",
   "metadata": {},
   "outputs": [
    {
     "name": "stdout",
     "output_type": "stream",
     "text": [
      "1\n",
      "2\n",
      "3\n",
      "4\n",
      "5\n",
      "6\n",
      "7\n"
     ]
    }
   ],
   "source": [
    "for i in range(1,8):\n",
    "    print(i)"
   ]
  },
  {
   "cell_type": "code",
   "execution_count": 19,
   "id": "892a9546-5d21-49b5-ae55-0ab5ea6c20f4",
   "metadata": {},
   "outputs": [
    {
     "name": "stdout",
     "output_type": "stream",
     "text": [
      "\n",
      "before continue statement 1\n",
      "after contiue statement 1\n",
      "\n",
      "before continue statement 2\n",
      "\n",
      "before continue statement 3\n",
      "after contiue statement 3\n",
      "\n",
      "before continue statement 4\n",
      "\n",
      "before continue statement 5\n",
      "after contiue statement 5\n",
      "\n",
      "before continue statement 6\n",
      "\n",
      "before continue statement 7\n",
      "after contiue statement 7\n"
     ]
    }
   ],
   "source": [
    "for i in range(1,8):\n",
    "    print()\n",
    "    print('before continue statement',i)\n",
    "    if i%2==0:\n",
    "        continue\n",
    "    print('after contiue statement',i)"
   ]
  },
  {
   "cell_type": "code",
   "execution_count": 21,
   "id": "3ad1846f-5fa3-4433-bb36-c3912bfec12d",
   "metadata": {},
   "outputs": [
    {
     "name": "stdout",
     "output_type": "stream",
     "text": [
      "1\n",
      "3\n",
      "5\n",
      "7\n"
     ]
    }
   ],
   "source": [
    "for i in range(1,8):\n",
    "    if i%2==0:\n",
    "        continue\n",
    "    print(i)"
   ]
  },
  {
   "cell_type": "markdown",
   "id": "7f8a0bec-8e55-4b51-b8b6-5c543a9c623b",
   "metadata": {},
   "source": [
    "## Inputs & Outputs"
   ]
  },
  {
   "cell_type": "code",
   "execution_count": 25,
   "id": "02208805-af9b-4ad8-85d5-066decf89288",
   "metadata": {},
   "outputs": [
    {
     "name": "stdin",
     "output_type": "stream",
     "text": [
      "enter any num 3\n",
      "enter another num 5\n"
     ]
    },
    {
     "name": "stdout",
     "output_type": "stream",
     "text": [
      "35\n"
     ]
    }
   ],
   "source": [
    "# add two inputs\n",
    "num1 = input('enter any num')\n",
    "num2 = input('enter another num')\n",
    "\n",
    "total = num1+num2\n",
    "print(total)"
   ]
  },
  {
   "cell_type": "code",
   "execution_count": 27,
   "id": "c14f0a69-507d-4cce-ad4a-fe876518156e",
   "metadata": {},
   "outputs": [
    {
     "name": "stdin",
     "output_type": "stream",
     "text": [
      "Enter any number 2\n"
     ]
    },
    {
     "name": "stdout",
     "output_type": "stream",
     "text": [
      "2\n",
      "1 * 2 = 2\n",
      "2 * 2 = 4\n",
      "3 * 2 = 6\n",
      "4 * 2 = 8\n",
      "5 * 2 = 10\n",
      "6 * 2 = 12\n",
      "7 * 2 = 14\n",
      "8 * 2 = 16\n",
      "9 * 2 = 18\n",
      "10 * 2 = 20\n"
     ]
    }
   ],
   "source": [
    "numbr = int(input('Enter any number'))\n",
    "print(numbr)\n",
    "for i in range(1,11):\n",
    "    print(i,'*',numbr,'=',i*numbr)"
   ]
  },
  {
   "cell_type": "code",
   "execution_count": 29,
   "id": "3d9972eb-bf19-460c-a365-e5e175975bc6",
   "metadata": {},
   "outputs": [
    {
     "name": "stdin",
     "output_type": "stream",
     "text": [
      " Please Enter any Maximum Value :  5\n"
     ]
    },
    {
     "name": "stdout",
     "output_type": "stream",
     "text": [
      "1\n",
      "3\n",
      "5\n"
     ]
    }
   ],
   "source": [
    "# Python Program to Print Odd Numbers from 1 to N\n",
    "\n",
    "maximum = int(input(\" Please Enter any Maximum Value : \"))\n",
    "\n",
    "for number in range(1, maximum + 1):\n",
    "    if(number % 2 != 0):\n",
    "        print(\"{0}\".format(number))"
   ]
  },
  {
   "cell_type": "code",
   "execution_count": 31,
   "id": "013479e0-e570-4ffb-9d50-4da6c58069b3",
   "metadata": {},
   "outputs": [
    {
     "name": "stdout",
     "output_type": "stream",
     "text": [
      "0\n",
      "1\n",
      "2\n",
      "3\n",
      "4\n",
      "5\n",
      "6\n",
      "7\n",
      "8\n",
      "9\n",
      "10\n"
     ]
    }
   ],
   "source": [
    "for i in range(10+1):\n",
    "    print(i)"
   ]
  },
  {
   "cell_type": "markdown",
   "id": "d932e3c1-21f6-49c4-b03e-e490bf87b2a3",
   "metadata": {},
   "source": [
    "## Built in Functions"
   ]
  },
  {
   "cell_type": "code",
   "execution_count": 33,
   "id": "11f9a49f-5041-4514-9f5a-d3b42c1a18f7",
   "metadata": {},
   "outputs": [],
   "source": [
    "# Built-in functions, such as help() to ask for help, min() to get the minimum value, \n",
    "# print() to print an object to the terminal,… You can find an overview with more of these functions here.\n",
    "# User-Defined Functions (UDFs), which are functions that users create to help them out; And Anonymous functions, \n",
    "# which are also called lambda functions because they are not declared with the standard def keyword."
   ]
  },
  {
   "cell_type": "code",
   "execution_count": 35,
   "id": "e12ebcd3-54d5-47c9-9209-d979458ce67c",
   "metadata": {},
   "outputs": [
    {
     "name": "stdout",
     "output_type": "stream",
     "text": [
      "30\n",
      "False\n",
      "False\n"
     ]
    }
   ],
   "source": [
    "# in built functions\n",
    "\n",
    "print(abs(-30))\n",
    "print(bool(0))\n",
    "print(5<0)"
   ]
  },
  {
   "cell_type": "code",
   "execution_count": 37,
   "id": "e82804c1-379a-4eba-ba57-64f93e860d89",
   "metadata": {},
   "outputs": [
    {
     "data": {
      "text/plain": [
       "'min(iterable, *[, default=obj, key=func]) -> value\\nmin(arg1, arg2, *args, *[, key=func]) -> value\\n\\nWith a single iterable argument, return its smallest item. The\\ndefault keyword-only argument specifies an object to return if\\nthe provided iterable is empty.\\nWith two or more arguments, return the smallest argument.'"
      ]
     },
     "execution_count": 37,
     "metadata": {},
     "output_type": "execute_result"
    }
   ],
   "source": [
    "min.__doc__"
   ]
  },
  {
   "cell_type": "code",
   "execution_count": 41,
   "id": "6b8881cf-3cb6-43ad-89ca-2f9aca9b58b9",
   "metadata": {},
   "outputs": [
    {
     "name": "stdout",
     "output_type": "stream",
     "text": [
      "<class 'int'>\n",
      "<class 'str'>\n"
     ]
    }
   ],
   "source": [
    "eval('5*3')\n",
    "a=1\n",
    "print(type(a))\n",
    "b = str(a)\n",
    "print(type(b))"
   ]
  },
  {
   "cell_type": "code",
   "execution_count": null,
   "id": "aa73c6de-4089-42fa-90c2-2f1d3e35921a",
   "metadata": {},
   "outputs": [],
   "source": [
    "Importing and Using Library in Python"
   ]
  },
  {
   "cell_type": "code",
   "execution_count": 43,
   "id": "a7daeec0-9829-40f3-998f-566903c8e552",
   "metadata": {},
   "outputs": [],
   "source": [
    "import pandas as pd"
   ]
  },
  {
   "cell_type": "code",
   "execution_count": 47,
   "id": "81e2d94b-722c-447d-822c-689155a73e6f",
   "metadata": {},
   "outputs": [
    {
     "name": "stdout",
     "output_type": "stream",
     "text": [
      "a    1\n",
      "b    3\n",
      "c    4\n",
      "d    5\n",
      "e    6\n",
      "f    2\n",
      "g    9\n",
      "dtype: int64\n",
      "   0\n",
      "a  1\n",
      "b  3\n",
      "c  4\n",
      "d  5\n",
      "e  6\n",
      "f  2\n",
      "g  9\n"
     ]
    }
   ],
   "source": [
    "Data =[1, 3, 4, 5, 6, 2, 9] \n",
    "s = pd.Series(Data) \n",
    "Index =['a', 'b', 'c', 'd', 'e', 'f', 'g']  \n",
    "si = pd.Series(Data, Index) \n",
    "print(si)\n",
    "a = pd.DataFrame(si)\n",
    "print(a)"
   ]
  },
  {
   "cell_type": "code",
   "execution_count": 49,
   "id": "a1396183-476c-4b19-8177-10a1c9f92c59",
   "metadata": {},
   "outputs": [
    {
     "name": "stdin",
     "output_type": "stream",
     "text": [
      " Please Enter the radius of a circle:  3\n"
     ]
    },
    {
     "name": "stdout",
     "output_type": "stream",
     "text": [
      " Area Of a Circle = 28.26\n",
      " Circumference Of a Circle = 18.84\n"
     ]
    }
   ],
   "source": [
    "# Python Program to find Area Of Circle using Radius\n",
    "\n",
    "PI = 3.14\n",
    "radius = float(input(' Please Enter the radius of a circle: '))\n",
    "area = PI * radius * radius\n",
    "circumference = 2 * PI * radius\n",
    "\n",
    "print(\" Area Of a Circle = %.2f\" %area)\n",
    "print(\" Circumference Of a Circle = %.2f\" %circumference)"
   ]
  },
  {
   "cell_type": "code",
   "execution_count": 51,
   "id": "791309a3-74cc-4553-acb3-58157cfc26fd",
   "metadata": {},
   "outputs": [
    {
     "name": "stdin",
     "output_type": "stream",
     "text": [
      "Please enter English Marks:  60\n",
      "Please enter Math score:  70\n",
      "Please enter Computer Marks:  80\n",
      "Please enter Physics Marks:  50\n",
      "Please enter Chemistry Marks:  90\n"
     ]
    },
    {
     "name": "stdout",
     "output_type": "stream",
     "text": [
      "\n",
      "Total Marks = 350.00\n",
      "Average Marks = 70.00\n",
      "Marks Percentage = 70.00\n"
     ]
    }
   ],
   "source": [
    "# Python Program to find Total, Average, and Percentage of Five Subjects\n",
    " \n",
    "english = float(input(\"Please enter English Marks: \"))\n",
    "math = float(input(\"Please enter Math score: \"))\n",
    "computers = float(input(\"Please enter Computer Marks: \"))\n",
    "physics = float(input(\"Please enter Physics Marks: \"))\n",
    "chemistry = float(input(\"Please enter Chemistry Marks: \"))\n",
    "\n",
    "total = english + math + computers + physics + chemistry\n",
    "average = total / 5\n",
    "percentage = (total / 500) * 100\n",
    "\n",
    "print(\"\\nTotal Marks = %.2f\"  %total)\n",
    "print(\"Average Marks = %.2f\"  %average)\n",
    "print(\"Marks Percentage = %.2f\"  %percentage)"
   ]
  },
  {
   "cell_type": "code",
   "execution_count": 53,
   "id": "7cb3e006-d7ba-47b4-80b1-9de4395d8629",
   "metadata": {},
   "outputs": [
    {
     "name": "stdin",
     "output_type": "stream",
     "text": [
      "Please enter your own String :  4\n",
      "Please enter your own Character :  6\n"
     ]
    },
    {
     "name": "stdout",
     "output_type": "stream",
     "text": [
      "Original String :   4\n",
      "Final String :      \n"
     ]
    }
   ],
   "source": [
    "# Python Program to Remove First Occurrence of a Character in a String\n",
    " \n",
    "string = input(\"Please enter your own String : \")\n",
    "char = input(\"Please enter your own Character : \")\n",
    "string2 = ''\n",
    "length = len(string)\n",
    "for i in range(length):\n",
    "    if(string[i] == char):\n",
    "        string2 = string[0:i] + string[i + 1:length]\n",
    "        break\n",
    " \n",
    " \n",
    "print(\"Original String :  \", string)\n",
    "print(\"Final String :     \", string2)"
   ]
  },
  {
   "cell_type": "markdown",
   "id": "addfd5c9-04f6-4762-99fa-6da1ca48a079",
   "metadata": {},
   "source": [
    "## Errors"
   ]
  },
  {
   "cell_type": "code",
   "execution_count": 55,
   "id": "e5818f29-6ab3-4dc0-a521-0305b9a23d5a",
   "metadata": {},
   "outputs": [
    {
     "name": "stdout",
     "output_type": "stream",
     "text": [
      "file not found\n"
     ]
    }
   ],
   "source": [
    "# Exception handlig\n",
    "\n",
    "try:\n",
    "    data = read_csv('data.csv')\n",
    "except:\n",
    "    print('file not found')"
   ]
  },
  {
   "cell_type": "code",
   "execution_count": 57,
   "id": "36ba5a05-dcb6-4c6d-aeff-692d9692e7a8",
   "metadata": {},
   "outputs": [
    {
     "name": "stdout",
     "output_type": "stream",
     "text": [
      "Handling run-time error: division by zero\n"
     ]
    }
   ],
   "source": [
    "def this_fails():\n",
    "    x = 1/0\n",
    "try:\n",
    "    this_fails()\n",
    "except ZeroDivisionError as err:\n",
    "    print('Handling run-time error:', err)"
   ]
  },
  {
   "cell_type": "code",
   "execution_count": 61,
   "id": "27e41af9-9431-4e1c-bf80-3a9d8d8b807f",
   "metadata": {},
   "outputs": [
    {
     "name": "stdin",
     "output_type": "stream",
     "text": [
      "Please enter a number:  \n"
     ]
    },
    {
     "name": "stdout",
     "output_type": "stream",
     "text": [
      "Oops!  That was no valid number.  Try again...\n"
     ]
    }
   ],
   "source": [
    "try:\n",
    "    x = int(input(\"Please enter a number: \"))\n",
    "except ValueError:\n",
    "    print(\"Oops!  That was no valid number.  Try again...\")"
   ]
  },
  {
   "cell_type": "code",
   "execution_count": 63,
   "id": "7b0aeb68-edf3-4dc6-9151-c5f9e7255307",
   "metadata": {},
   "outputs": [
    {
     "name": "stdout",
     "output_type": "stream",
     "text": [
      "Please input the correct type\n"
     ]
    }
   ],
   "source": [
    "A = 1\n",
    "B = 'SA'\n",
    "try:\n",
    "    A+B\n",
    "except TypeError:\n",
    "    print('Please input the correct type')"
   ]
  },
  {
   "cell_type": "code",
   "execution_count": 65,
   "id": "b9de7b51-cc46-4023-b580-435e251941ea",
   "metadata": {},
   "outputs": [
    {
     "name": "stdin",
     "output_type": "stream",
     "text": [
      "Enter your Age 24\n"
     ]
    },
    {
     "name": "stdout",
     "output_type": "stream",
     "text": [
      "Yes input string is an Integer.\n",
      "Input number value is:  24\n"
     ]
    }
   ],
   "source": [
    "user_input = input('Enter your Age')\n",
    "try:\n",
    "    val = int(user_input)\n",
    "    print('Yes input string is an Integer.')\n",
    "    print('Input number value is: ', val)\n",
    "except ValueError:\n",
    "    print('That\\'s not an int!')\n",
    "except:\n",
    "    print('Somethings wrong')"
   ]
  },
  {
   "cell_type": "code",
   "execution_count": 67,
   "id": "b5038f02-fad5-4b9e-adf5-3f2e9fb8bdcc",
   "metadata": {},
   "outputs": [
    {
     "name": "stdout",
     "output_type": "stream",
     "text": [
      "4\n"
     ]
    }
   ],
   "source": [
    "try:\n",
    "    print(x)\n",
    "except NameError:\n",
    "    print(\"Variable x is not defined\")\n",
    "except:\n",
    "    print(\"Something else went wrong\")"
   ]
  },
  {
   "cell_type": "code",
   "execution_count": 69,
   "id": "2c6022c7-37fb-48e2-b531-e29157380b5c",
   "metadata": {},
   "outputs": [
    {
     "name": "stdout",
     "output_type": "stream",
     "text": [
      "Hello\n"
     ]
    }
   ],
   "source": [
    "try:\n",
    "    print(\"Hello\")\n",
    "except:\n",
    "    print(\"Something went wrong\")"
   ]
  },
  {
   "cell_type": "code",
   "execution_count": 71,
   "id": "40ce5cad-0de0-452f-8620-05a4456aaa6f",
   "metadata": {},
   "outputs": [
    {
     "name": "stdout",
     "output_type": "stream",
     "text": [
      "OS error: [Errno 2] No such file or directory: 'myfile.txt'\n"
     ]
    }
   ],
   "source": [
    "try:\n",
    "    f = open('myfile.txt')\n",
    "    s = f.readline()\n",
    "    i = int(s.strip())\n",
    "except OSError as err:\n",
    "    print(\"OS error: {0}\".format(err))\n",
    "except ValueError:\n",
    "    print(\"Could not convert data to an integer.\")\n",
    "except:\n",
    "    print(\"Unexpected error:\", sys.exc_info()[0])\n",
    "    raise"
   ]
  },
  {
   "cell_type": "code",
   "execution_count": null,
   "id": "0fe5656b-e8dd-4583-9fd5-215ea374c819",
   "metadata": {},
   "outputs": [],
   "source": []
  }
 ],
 "metadata": {
  "kernelspec": {
   "display_name": "Python 3 (ipykernel)",
   "language": "python",
   "name": "python3"
  },
  "language_info": {
   "codemirror_mode": {
    "name": "ipython",
    "version": 3
   },
   "file_extension": ".py",
   "mimetype": "text/x-python",
   "name": "python",
   "nbconvert_exporter": "python",
   "pygments_lexer": "ipython3",
   "version": "3.11.7"
  }
 },
 "nbformat": 4,
 "nbformat_minor": 5
}
